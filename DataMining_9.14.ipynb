{
 "cells": [
  {
   "cell_type": "code",
   "execution_count": 3,
   "id": "16fb9965",
   "metadata": {},
   "outputs": [],
   "source": [
    "from numpy import random"
   ]
  },
  {
   "cell_type": "code",
   "execution_count": 4,
   "id": "64d16006",
   "metadata": {},
   "outputs": [],
   "source": [
    "x = random.randn()"
   ]
  },
  {
   "cell_type": "code",
   "execution_count": 5,
   "id": "91a56730",
   "metadata": {},
   "outputs": [
    {
     "data": {
      "text/plain": [
       "0.45053080339755375"
      ]
     },
     "execution_count": 5,
     "metadata": {},
     "output_type": "execute_result"
    }
   ],
   "source": [
    "x"
   ]
  },
  {
   "cell_type": "code",
   "execution_count": 6,
   "id": "9207bd76",
   "metadata": {},
   "outputs": [],
   "source": [
    "class MyPerson:\n",
    "    i = 5\n",
    "    def __init__(self,name,age):\n",
    "        self.name = name\n",
    "        self.age = age\n",
    "    def asksomething(self):\n",
    "        print(\"what is your name\")\n",
    "cls = MyPerson(\"JY\",20)\n"
   ]
  },
  {
   "cell_type": "code",
   "execution_count": 7,
   "id": "abbc3118",
   "metadata": {},
   "outputs": [
    {
     "data": {
      "text/plain": [
       "<__main__.MyPerson at 0x1e3f2b26460>"
      ]
     },
     "execution_count": 7,
     "metadata": {},
     "output_type": "execute_result"
    }
   ],
   "source": [
    "cls"
   ]
  },
  {
   "cell_type": "code",
   "execution_count": 8,
   "id": "16a56ffe",
   "metadata": {},
   "outputs": [
    {
     "data": {
      "text/plain": [
       "'JY'"
      ]
     },
     "execution_count": 8,
     "metadata": {},
     "output_type": "execute_result"
    }
   ],
   "source": [
    "cls.name"
   ]
  },
  {
   "cell_type": "code",
   "execution_count": 9,
   "id": "0f1b2069",
   "metadata": {},
   "outputs": [
    {
     "data": {
      "text/plain": [
       "20"
      ]
     },
     "execution_count": 9,
     "metadata": {},
     "output_type": "execute_result"
    }
   ],
   "source": [
    "cls.age"
   ]
  },
  {
   "cell_type": "code",
   "execution_count": 10,
   "id": "e6ffe119",
   "metadata": {},
   "outputs": [
    {
     "name": "stdout",
     "output_type": "stream",
     "text": [
      "what is your name\n"
     ]
    }
   ],
   "source": [
    "cls.asksomething()"
   ]
  },
  {
   "cell_type": "code",
   "execution_count": 11,
   "id": "6edee1bc",
   "metadata": {},
   "outputs": [
    {
     "data": {
      "text/plain": [
       "5"
      ]
     },
     "execution_count": 11,
     "metadata": {},
     "output_type": "execute_result"
    }
   ],
   "source": [
    "cls.i"
   ]
  },
  {
   "cell_type": "code",
   "execution_count": 2,
   "id": "4bc92f3f",
   "metadata": {},
   "outputs": [],
   "source": [
    "import datamining as dm\n",
    "#모듈 사용하기 위해서는 같이 디렉토리에 위치하고 py 형식으로 저장 되어야 한다"
   ]
  },
  {
   "cell_type": "code",
   "execution_count": 3,
   "id": "89e53791",
   "metadata": {},
   "outputs": [
    {
     "name": "stdout",
     "output_type": "stream",
     "text": [
      "900\n"
     ]
    }
   ],
   "source": [
    "print(dm.mul3(300))"
   ]
  },
  {
   "cell_type": "code",
   "execution_count": 17,
   "id": "054eafd6",
   "metadata": {},
   "outputs": [],
   "source": [
    "from numpy import random as nprd#속도가 빠름\n",
    "import random as rd\n",
    "#파이썬은 마지막줄을 실행 따라서 같은 이름의 함수(random)을 사용할 때는 as로 이름 구별해야 한다"
   ]
  },
  {
   "cell_type": "code",
   "execution_count": 19,
   "id": "bfba0489",
   "metadata": {},
   "outputs": [
    {
     "data": {
      "text/plain": [
       "0.08561656998133349"
      ]
     },
     "execution_count": 19,
     "metadata": {},
     "output_type": "execute_result"
    }
   ],
   "source": [
    "rd.random()"
   ]
  },
  {
   "cell_type": "code",
   "execution_count": 20,
   "id": "0932e1c6",
   "metadata": {},
   "outputs": [
    {
     "data": {
      "text/plain": [
       "1.0147310030356402"
      ]
     },
     "execution_count": 20,
     "metadata": {},
     "output_type": "execute_result"
    }
   ],
   "source": [
    "nprd.randn()"
   ]
  },
  {
   "cell_type": "code",
   "execution_count": 1,
   "id": "15ea2a16",
   "metadata": {},
   "outputs": [
    {
     "data": {
      "text/plain": [
       "['C:\\\\Users\\\\USER\\\\DataMining',\n",
       " 'C:\\\\Users\\\\USER\\\\anaconda3\\\\python39.zip',\n",
       " 'C:\\\\Users\\\\USER\\\\anaconda3\\\\DLLs',\n",
       " 'C:\\\\Users\\\\USER\\\\anaconda3\\\\lib',\n",
       " 'C:\\\\Users\\\\USER\\\\anaconda3',\n",
       " '',\n",
       " 'C:\\\\Users\\\\USER\\\\anaconda3\\\\lib\\\\site-packages',\n",
       " 'C:\\\\Users\\\\USER\\\\anaconda3\\\\lib\\\\site-packages\\\\locket-0.2.1-py3.9.egg',\n",
       " 'C:\\\\Users\\\\USER\\\\anaconda3\\\\lib\\\\site-packages\\\\win32',\n",
       " 'C:\\\\Users\\\\USER\\\\anaconda3\\\\lib\\\\site-packages\\\\win32\\\\lib',\n",
       " 'C:\\\\Users\\\\USER\\\\anaconda3\\\\lib\\\\site-packages\\\\Pythonwin',\n",
       " 'C:\\\\Users\\\\USER\\\\anaconda3\\\\lib\\\\site-packages\\\\IPython\\\\extensions',\n",
       " 'C:\\\\Users\\\\USER\\\\.ipython']"
      ]
     },
     "execution_count": 1,
     "metadata": {},
     "output_type": "execute_result"
    }
   ],
   "source": [
    "import sys\n",
    "sys.path"
   ]
  },
  {
   "cell_type": "code",
   "execution_count": 5,
   "id": "285d3d37",
   "metadata": {},
   "outputs": [
    {
     "data": {
      "text/plain": [
       "7"
      ]
     },
     "execution_count": 5,
     "metadata": {},
     "output_type": "execute_result"
    }
   ],
   "source": [
    "def add(a,b):#user defined fuction\n",
    "    return a+b\n",
    "add(3,4)"
   ]
  },
  {
   "cell_type": "code",
   "execution_count": 7,
   "id": "631639d7",
   "metadata": {},
   "outputs": [
    {
     "data": {
      "text/plain": [
       "22"
      ]
     },
     "execution_count": 7,
     "metadata": {},
     "output_type": "execute_result"
    }
   ],
   "source": [
    "sm = sum([5,15,2]) #내장 함수 buit-in function\n",
    "sm"
   ]
  },
  {
   "cell_type": "code",
   "execution_count": 8,
   "id": "0626d3ba",
   "metadata": {},
   "outputs": [
    {
     "data": {
      "text/plain": [
       "15"
      ]
     },
     "execution_count": 8,
     "metadata": {},
     "output_type": "execute_result"
    }
   ],
   "source": [
    "mx = max([5,15,2])\n",
    "mx"
   ]
  },
  {
   "cell_type": "code",
   "execution_count": 10,
   "id": "02b38be9",
   "metadata": {},
   "outputs": [],
   "source": [
    "class myMath:\n",
    "    def add(self, a, b):\n",
    "        return a+b"
   ]
  },
  {
   "cell_type": "code",
   "execution_count": 11,
   "id": "7916cfe6",
   "metadata": {},
   "outputs": [
    {
     "data": {
      "text/plain": [
       "11"
      ]
     },
     "execution_count": 11,
     "metadata": {},
     "output_type": "execute_result"
    }
   ],
   "source": [
    "p1 = myMath()\n",
    "p1.add(5,6)"
   ]
  },
  {
   "cell_type": "code",
   "execution_count": null,
   "id": "7511668d",
   "metadata": {},
   "outputs": [],
   "source": []
  }
 ],
 "metadata": {
  "kernelspec": {
   "display_name": "Python 3 (ipykernel)",
   "language": "python",
   "name": "python3"
  },
  "language_info": {
   "codemirror_mode": {
    "name": "ipython",
    "version": 3
   },
   "file_extension": ".py",
   "mimetype": "text/x-python",
   "name": "python",
   "nbconvert_exporter": "python",
   "pygments_lexer": "ipython3",
   "version": "3.9.7"
  }
 },
 "nbformat": 4,
 "nbformat_minor": 5
}
