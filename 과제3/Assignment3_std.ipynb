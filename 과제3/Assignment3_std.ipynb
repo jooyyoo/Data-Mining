{
 "cells": [
  {
   "cell_type": "code",
   "execution_count": 46,
   "id": "97cf43b4",
   "metadata": {},
   "outputs": [],
   "source": [
    "import pandas as pd\n",
    "import numpy as np\n",
    "import matplotlib.pyplot as plt\n",
    "file = \"C:/student_health_2.csv\"\n",
    "df = pd.read_csv(file, encoding='cp949')"
   ]
  },
  {
   "cell_type": "code",
   "execution_count": 75,
   "id": "8e53d55c",
   "metadata": {},
   "outputs": [
    {
     "data": {
      "text/plain": [
       "1    591\n",
       "2    599\n",
       "3    601\n",
       "4    591\n",
       "5    595\n",
       "6    592\n",
       "Name: 학년, dtype: int64"
      ]
     },
     "execution_count": 75,
     "metadata": {},
     "output_type": "execute_result"
    }
   ],
   "source": [
    "df1 = df['학년'].value_counts(sort = False)\n",
    "df1"
   ]
  },
  {
   "cell_type": "code",
   "execution_count": 91,
   "id": "8875f244",
   "metadata": {},
   "outputs": [
    {
     "data": {
      "text/plain": [
       "학년  키    \n",
       "1   107.7    1\n",
       "    108.0    1\n",
       "    108.9    1\n",
       "    109.3    1\n",
       "    109.6    1\n",
       "            ..\n",
       "6   168.6    1\n",
       "    168.8    1\n",
       "    168.9    2\n",
       "    169.1    1\n",
       "    171.9    1\n",
       "Name: 키, Length: 1303, dtype: int64"
      ]
     },
     "execution_count": 91,
     "metadata": {},
     "output_type": "execute_result"
    }
   ],
   "source": [
    "df2 = df.groupby(\"학년\")['키'].value_counts(sort = False)\n",
    "df2"
   ]
  },
  {
   "cell_type": "code",
   "execution_count": null,
   "id": "b8000ec2",
   "metadata": {},
   "outputs": [],
   "source": []
  }
 ],
 "metadata": {
  "kernelspec": {
   "display_name": "Python 3 (ipykernel)",
   "language": "python",
   "name": "python3"
  },
  "language_info": {
   "codemirror_mode": {
    "name": "ipython",
    "version": 3
   },
   "file_extension": ".py",
   "mimetype": "text/x-python",
   "name": "python",
   "nbconvert_exporter": "python",
   "pygments_lexer": "ipython3",
   "version": "3.9.13"
  }
 },
 "nbformat": 4,
 "nbformat_minor": 5
}
