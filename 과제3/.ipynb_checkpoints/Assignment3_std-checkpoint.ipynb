{
 "cells": [
  {
   "cell_type": "code",
   "execution_count": 35,
   "id": "97cf43b4",
   "metadata": {},
   "outputs": [],
   "source": [
    "import pandas as pd\n",
    "import numpy as np\n",
    "import matplotlib.pyplot as plt\n",
    "file = \"C:/student_health_2.csv\"\n",
    "df = pd.read_csv(file, encoding='cp949')"
   ]
  },
  {
   "cell_type": "code",
   "execution_count": 49,
   "id": "8e53d55c",
   "metadata": {},
   "outputs": [
    {
     "data": {
      "text/html": [
       "<div>\n",
       "<style scoped>\n",
       "    .dataframe tbody tr th:only-of-type {\n",
       "        vertical-align: middle;\n",
       "    }\n",
       "\n",
       "    .dataframe tbody tr th {\n",
       "        vertical-align: top;\n",
       "    }\n",
       "\n",
       "    .dataframe thead th {\n",
       "        text-align: right;\n",
       "    }\n",
       "</style>\n",
       "<table border=\"1\" class=\"dataframe\">\n",
       "  <thead>\n",
       "    <tr style=\"text-align: right;\">\n",
       "      <th></th>\n",
       "      <th>학년</th>\n",
       "    </tr>\n",
       "  </thead>\n",
       "  <tbody>\n",
       "    <tr>\n",
       "      <th>1</th>\n",
       "      <td>591</td>\n",
       "    </tr>\n",
       "    <tr>\n",
       "      <th>2</th>\n",
       "      <td>599</td>\n",
       "    </tr>\n",
       "    <tr>\n",
       "      <th>3</th>\n",
       "      <td>601</td>\n",
       "    </tr>\n",
       "    <tr>\n",
       "      <th>4</th>\n",
       "      <td>591</td>\n",
       "    </tr>\n",
       "    <tr>\n",
       "      <th>5</th>\n",
       "      <td>595</td>\n",
       "    </tr>\n",
       "    <tr>\n",
       "      <th>6</th>\n",
       "      <td>592</td>\n",
       "    </tr>\n",
       "  </tbody>\n",
       "</table>\n",
       "</div>"
      ],
      "text/plain": [
       "    학년\n",
       "1  591\n",
       "2  599\n",
       "3  601\n",
       "4  591\n",
       "5  595\n",
       "6  592"
      ]
     },
     "execution_count": 49,
     "metadata": {},
     "output_type": "execute_result"
    }
   ],
   "source": [
    "df1 = df['학년'].value_counts(sort=False)\n",
    "df1 = pd.DataFrame(df1)\n",
    "df1"
   ]
  },
  {
   "cell_type": "code",
   "execution_count": 37,
   "id": "8875f244",
   "metadata": {},
   "outputs": [
    {
     "data": {
      "text/plain": [
       "학년  몸무게 \n",
       "1   15.9    1\n",
       "    16.4    1\n",
       "    16.8    1\n",
       "    17.0    1\n",
       "    17.3    2\n",
       "           ..\n",
       "6   79.4    1\n",
       "    84.4    1\n",
       "    84.5    1\n",
       "    88.8    1\n",
       "    90.2    1\n",
       "Name: 몸무게, Length: 1398, dtype: int64"
      ]
     },
     "execution_count": 37,
     "metadata": {},
     "output_type": "execute_result"
    }
   ],
   "source": [
    "group_height = df.groupby(\"학년\")['키'].value_counts(sort = False)\n",
    "group_weight = df.groupby(\"학년\")['몸무게'].value_counts(sort = False)\n",
    "group_sys = df.groupby(\"학년\")['수축기'].value_counts(sort = False)\n",
    "group_dia = df.groupby(\"학년\")['이완기'].value_counts(sort = False)\n",
    "\n",
    "group_weight"
   ]
  },
  {
   "cell_type": "code",
   "execution_count": 38,
   "id": "b8000ec2",
   "metadata": {},
   "outputs": [
    {
     "data": {
      "text/plain": [
       "학년  키    \n",
       "1   107.7    1\n",
       "    108.0    1\n",
       "    108.9    1\n",
       "    109.3    1\n",
       "    109.6    1\n",
       "            ..\n",
       "6   168.6    1\n",
       "    168.8    1\n",
       "    168.9    2\n",
       "    169.1    1\n",
       "    171.9    1\n",
       "Name: 키, Length: 1303, dtype: int64"
      ]
     },
     "execution_count": 38,
     "metadata": {},
     "output_type": "execute_result"
    }
   ],
   "source": [
    "group_height"
   ]
  },
  {
   "cell_type": "code",
   "execution_count": 39,
   "id": "4643696f",
   "metadata": {},
   "outputs": [
    {
     "data": {
      "text/plain": [
       "학년  수축기  \n",
       "1   65.0     1\n",
       "    70.0     8\n",
       "    71.0     1\n",
       "    72.0     1\n",
       "    73.0     1\n",
       "            ..\n",
       "4   125.0    1\n",
       "    126.0    1\n",
       "    127.0    1\n",
       "    128.0    1\n",
       "    134.0    1\n",
       "Name: 수축기, Length: 104, dtype: int64"
      ]
     },
     "execution_count": 39,
     "metadata": {},
     "output_type": "execute_result"
    }
   ],
   "source": [
    "group_sys"
   ]
  },
  {
   "cell_type": "code",
   "execution_count": 40,
   "id": "87fed843",
   "metadata": {},
   "outputs": [
    {
     "data": {
      "text/plain": [
       "학년  이완기 \n",
       "1   37.0     1\n",
       "    40.0    16\n",
       "    41.0     1\n",
       "    43.0     1\n",
       "    45.0     4\n",
       "            ..\n",
       "4   80.0     3\n",
       "    84.0     1\n",
       "    86.0     1\n",
       "    87.0     1\n",
       "    94.0     1\n",
       "Name: 이완기, Length: 78, dtype: int64"
      ]
     },
     "execution_count": 40,
     "metadata": {},
     "output_type": "execute_result"
    }
   ],
   "source": [
    "group_dia"
   ]
  },
  {
   "cell_type": "code",
   "execution_count": 43,
   "id": "85c99d9d",
   "metadata": {},
   "outputs": [
    {
     "name": "stderr",
     "output_type": "stream",
     "text": [
      "C:\\Users\\USER\\AppData\\Local\\Temp\\ipykernel_11120\\2698009750.py:1: FutureWarning: Indexing with multiple keys (implicitly converted to a tuple of keys) will be deprecated, use a list instead.\n",
      "  grouped = df.groupby('학년')['키','몸무게','수축기','이완기'].agg(['mean'])\n"
     ]
    },
    {
     "data": {
      "text/html": [
       "<div>\n",
       "<style scoped>\n",
       "    .dataframe tbody tr th:only-of-type {\n",
       "        vertical-align: middle;\n",
       "    }\n",
       "\n",
       "    .dataframe tbody tr th {\n",
       "        vertical-align: top;\n",
       "    }\n",
       "\n",
       "    .dataframe thead tr th {\n",
       "        text-align: left;\n",
       "    }\n",
       "\n",
       "    .dataframe thead tr:last-of-type th {\n",
       "        text-align: right;\n",
       "    }\n",
       "</style>\n",
       "<table border=\"1\" class=\"dataframe\">\n",
       "  <thead>\n",
       "    <tr>\n",
       "      <th></th>\n",
       "      <th>키</th>\n",
       "      <th>몸무게</th>\n",
       "      <th>수축기</th>\n",
       "      <th>이완기</th>\n",
       "    </tr>\n",
       "    <tr>\n",
       "      <th></th>\n",
       "      <th>mean</th>\n",
       "      <th>mean</th>\n",
       "      <th>mean</th>\n",
       "      <th>mean</th>\n",
       "    </tr>\n",
       "    <tr>\n",
       "      <th>학년</th>\n",
       "      <th></th>\n",
       "      <th></th>\n",
       "      <th></th>\n",
       "      <th></th>\n",
       "    </tr>\n",
       "  </thead>\n",
       "  <tbody>\n",
       "    <tr>\n",
       "      <th>1</th>\n",
       "      <td>121.106430</td>\n",
       "      <td>24.390186</td>\n",
       "      <td>94.505396</td>\n",
       "      <td>58.789568</td>\n",
       "    </tr>\n",
       "    <tr>\n",
       "      <th>2</th>\n",
       "      <td>127.584474</td>\n",
       "      <td>27.719866</td>\n",
       "      <td>NaN</td>\n",
       "      <td>NaN</td>\n",
       "    </tr>\n",
       "    <tr>\n",
       "      <th>3</th>\n",
       "      <td>133.401830</td>\n",
       "      <td>31.299667</td>\n",
       "      <td>NaN</td>\n",
       "      <td>NaN</td>\n",
       "    </tr>\n",
       "    <tr>\n",
       "      <th>4</th>\n",
       "      <td>139.384602</td>\n",
       "      <td>36.419628</td>\n",
       "      <td>100.110721</td>\n",
       "      <td>61.314587</td>\n",
       "    </tr>\n",
       "    <tr>\n",
       "      <th>5</th>\n",
       "      <td>144.822017</td>\n",
       "      <td>40.563193</td>\n",
       "      <td>NaN</td>\n",
       "      <td>NaN</td>\n",
       "    </tr>\n",
       "    <tr>\n",
       "      <th>6</th>\n",
       "      <td>151.969932</td>\n",
       "      <td>45.954899</td>\n",
       "      <td>NaN</td>\n",
       "      <td>NaN</td>\n",
       "    </tr>\n",
       "  </tbody>\n",
       "</table>\n",
       "</div>"
      ],
      "text/plain": [
       "             키        몸무게         수축기        이완기\n",
       "          mean       mean        mean       mean\n",
       "학년                                              \n",
       "1   121.106430  24.390186   94.505396  58.789568\n",
       "2   127.584474  27.719866         NaN        NaN\n",
       "3   133.401830  31.299667         NaN        NaN\n",
       "4   139.384602  36.419628  100.110721  61.314587\n",
       "5   144.822017  40.563193         NaN        NaN\n",
       "6   151.969932  45.954899         NaN        NaN"
      ]
     },
     "execution_count": 43,
     "metadata": {},
     "output_type": "execute_result"
    }
   ],
   "source": [
    "grouped = df.groupby('학년')['키','몸무게','수축기','이완기'].agg(['mean'])\n",
    "grouped"
   ]
  },
  {
   "cell_type": "code",
   "execution_count": 44,
   "id": "27baafdc",
   "metadata": {},
   "outputs": [
    {
     "data": {
      "text/html": [
       "<div>\n",
       "<style scoped>\n",
       "    .dataframe tbody tr th:only-of-type {\n",
       "        vertical-align: middle;\n",
       "    }\n",
       "\n",
       "    .dataframe tbody tr th {\n",
       "        vertical-align: top;\n",
       "    }\n",
       "\n",
       "    .dataframe thead th {\n",
       "        text-align: right;\n",
       "    }\n",
       "</style>\n",
       "<table border=\"1\" class=\"dataframe\">\n",
       "  <thead>\n",
       "    <tr style=\"text-align: right;\">\n",
       "      <th></th>\n",
       "      <th>mean</th>\n",
       "    </tr>\n",
       "    <tr>\n",
       "      <th>학년</th>\n",
       "      <th></th>\n",
       "    </tr>\n",
       "  </thead>\n",
       "  <tbody>\n",
       "    <tr>\n",
       "      <th>1</th>\n",
       "      <td>58.789568</td>\n",
       "    </tr>\n",
       "    <tr>\n",
       "      <th>2</th>\n",
       "      <td>NaN</td>\n",
       "    </tr>\n",
       "    <tr>\n",
       "      <th>3</th>\n",
       "      <td>NaN</td>\n",
       "    </tr>\n",
       "    <tr>\n",
       "      <th>4</th>\n",
       "      <td>61.314587</td>\n",
       "    </tr>\n",
       "    <tr>\n",
       "      <th>5</th>\n",
       "      <td>NaN</td>\n",
       "    </tr>\n",
       "    <tr>\n",
       "      <th>6</th>\n",
       "      <td>NaN</td>\n",
       "    </tr>\n",
       "  </tbody>\n",
       "</table>\n",
       "</div>"
      ],
      "text/plain": [
       "         mean\n",
       "학년           \n",
       "1   58.789568\n",
       "2         NaN\n",
       "3         NaN\n",
       "4   61.314587\n",
       "5         NaN\n",
       "6         NaN"
      ]
     },
     "execution_count": 44,
     "metadata": {},
     "output_type": "execute_result"
    }
   ],
   "source": [
    "group1 = df.groupby('학년')['이완기'].agg(['mean'])\n",
    "group1"
   ]
  },
  {
   "cell_type": "code",
   "execution_count": 62,
   "id": "264976ef",
   "metadata": {},
   "outputs": [
    {
     "data": {
      "text/html": [
       "<div>\n",
       "<style scoped>\n",
       "    .dataframe tbody tr th:only-of-type {\n",
       "        vertical-align: middle;\n",
       "    }\n",
       "\n",
       "    .dataframe tbody tr th {\n",
       "        vertical-align: top;\n",
       "    }\n",
       "\n",
       "    .dataframe thead th {\n",
       "        text-align: right;\n",
       "    }\n",
       "</style>\n",
       "<table border=\"1\" class=\"dataframe\">\n",
       "  <thead>\n",
       "    <tr style=\"text-align: right;\">\n",
       "      <th></th>\n",
       "      <th>학년</th>\n",
       "      <th>(키, mean)</th>\n",
       "      <th>(몸무게, mean)</th>\n",
       "      <th>(수축기, mean)</th>\n",
       "      <th>(이완기, mean)</th>\n",
       "    </tr>\n",
       "  </thead>\n",
       "  <tbody>\n",
       "    <tr>\n",
       "      <th>1</th>\n",
       "      <td>591</td>\n",
       "      <td>121.106430</td>\n",
       "      <td>24.390186</td>\n",
       "      <td>94.505396</td>\n",
       "      <td>58.789568</td>\n",
       "    </tr>\n",
       "    <tr>\n",
       "      <th>2</th>\n",
       "      <td>599</td>\n",
       "      <td>127.584474</td>\n",
       "      <td>27.719866</td>\n",
       "      <td>NaN</td>\n",
       "      <td>NaN</td>\n",
       "    </tr>\n",
       "    <tr>\n",
       "      <th>3</th>\n",
       "      <td>601</td>\n",
       "      <td>133.401830</td>\n",
       "      <td>31.299667</td>\n",
       "      <td>NaN</td>\n",
       "      <td>NaN</td>\n",
       "    </tr>\n",
       "    <tr>\n",
       "      <th>4</th>\n",
       "      <td>591</td>\n",
       "      <td>139.384602</td>\n",
       "      <td>36.419628</td>\n",
       "      <td>100.110721</td>\n",
       "      <td>61.314587</td>\n",
       "    </tr>\n",
       "    <tr>\n",
       "      <th>5</th>\n",
       "      <td>595</td>\n",
       "      <td>144.822017</td>\n",
       "      <td>40.563193</td>\n",
       "      <td>NaN</td>\n",
       "      <td>NaN</td>\n",
       "    </tr>\n",
       "    <tr>\n",
       "      <th>6</th>\n",
       "      <td>592</td>\n",
       "      <td>151.969932</td>\n",
       "      <td>45.954899</td>\n",
       "      <td>NaN</td>\n",
       "      <td>NaN</td>\n",
       "    </tr>\n",
       "  </tbody>\n",
       "</table>\n",
       "</div>"
      ],
      "text/plain": [
       "    학년   (키, mean)  (몸무게, mean)  (수축기, mean)  (이완기, mean)\n",
       "1  591  121.106430    24.390186    94.505396    58.789568\n",
       "2  599  127.584474    27.719866          NaN          NaN\n",
       "3  601  133.401830    31.299667          NaN          NaN\n",
       "4  591  139.384602    36.419628   100.110721    61.314587\n",
       "5  595  144.822017    40.563193          NaN          NaN\n",
       "6  592  151.969932    45.954899          NaN          NaN"
      ]
     },
     "execution_count": 62,
     "metadata": {},
     "output_type": "execute_result"
    }
   ],
   "source": [
    "dfdf = pd.concat([df1,grouped], axis = 1)\n",
    "dfdf"
   ]
  },
  {
   "cell_type": "code",
   "execution_count": 64,
   "id": "f330eb7a",
   "metadata": {},
   "outputs": [
    {
     "data": {
      "text/html": [
       "<div>\n",
       "<style scoped>\n",
       "    .dataframe tbody tr th:only-of-type {\n",
       "        vertical-align: middle;\n",
       "    }\n",
       "\n",
       "    .dataframe tbody tr th {\n",
       "        vertical-align: top;\n",
       "    }\n",
       "\n",
       "    .dataframe thead th {\n",
       "        text-align: right;\n",
       "    }\n",
       "</style>\n",
       "<table border=\"1\" class=\"dataframe\">\n",
       "  <thead>\n",
       "    <tr style=\"text-align: right;\">\n",
       "      <th></th>\n",
       "      <th>학년 인원수</th>\n",
       "      <th>키 평균</th>\n",
       "      <th>몸무게 평균</th>\n",
       "      <th>수축기 평균</th>\n",
       "      <th>이완기 평균</th>\n",
       "    </tr>\n",
       "  </thead>\n",
       "  <tbody>\n",
       "    <tr>\n",
       "      <th>1</th>\n",
       "      <td>591</td>\n",
       "      <td>121.106430</td>\n",
       "      <td>24.390186</td>\n",
       "      <td>94.505396</td>\n",
       "      <td>58.789568</td>\n",
       "    </tr>\n",
       "    <tr>\n",
       "      <th>2</th>\n",
       "      <td>599</td>\n",
       "      <td>127.584474</td>\n",
       "      <td>27.719866</td>\n",
       "      <td>NaN</td>\n",
       "      <td>NaN</td>\n",
       "    </tr>\n",
       "    <tr>\n",
       "      <th>3</th>\n",
       "      <td>601</td>\n",
       "      <td>133.401830</td>\n",
       "      <td>31.299667</td>\n",
       "      <td>NaN</td>\n",
       "      <td>NaN</td>\n",
       "    </tr>\n",
       "    <tr>\n",
       "      <th>4</th>\n",
       "      <td>591</td>\n",
       "      <td>139.384602</td>\n",
       "      <td>36.419628</td>\n",
       "      <td>100.110721</td>\n",
       "      <td>61.314587</td>\n",
       "    </tr>\n",
       "    <tr>\n",
       "      <th>5</th>\n",
       "      <td>595</td>\n",
       "      <td>144.822017</td>\n",
       "      <td>40.563193</td>\n",
       "      <td>NaN</td>\n",
       "      <td>NaN</td>\n",
       "    </tr>\n",
       "    <tr>\n",
       "      <th>6</th>\n",
       "      <td>592</td>\n",
       "      <td>151.969932</td>\n",
       "      <td>45.954899</td>\n",
       "      <td>NaN</td>\n",
       "      <td>NaN</td>\n",
       "    </tr>\n",
       "  </tbody>\n",
       "</table>\n",
       "</div>"
      ],
      "text/plain": [
       "   학년 인원수        키 평균     몸무게 평균      수축기 평균     이완기 평균\n",
       "1     591  121.106430  24.390186   94.505396  58.789568\n",
       "2     599  127.584474  27.719866         NaN        NaN\n",
       "3     601  133.401830  31.299667         NaN        NaN\n",
       "4     591  139.384602  36.419628  100.110721  61.314587\n",
       "5     595  144.822017  40.563193         NaN        NaN\n",
       "6     592  151.969932  45.954899         NaN        NaN"
      ]
     },
     "execution_count": 64,
     "metadata": {},
     "output_type": "execute_result"
    }
   ],
   "source": [
    "dfdf.columns = ['학년 인원수','키 평균', '몸무게 평균', '수축기 평균', '이완기 평균']\n",
    "dfdf"
   ]
  },
  {
   "cell_type": "code",
   "execution_count": 63,
   "id": "178246b6",
   "metadata": {},
   "outputs": [
    {
     "data": {
      "text/plain": [
       "Index(['학년', ('키', 'mean'), ('몸무게', 'mean'), ('수축기', 'mean'), ('이완기', 'mean')], dtype='object')"
      ]
     },
     "execution_count": 63,
     "metadata": {},
     "output_type": "execute_result"
    }
   ],
   "source": [
    "dfdf.columns"
   ]
  },
  {
   "cell_type": "code",
   "execution_count": null,
   "id": "59c1d0ec",
   "metadata": {},
   "outputs": [],
   "source": []
  }
 ],
 "metadata": {
  "kernelspec": {
   "display_name": "Python 3 (ipykernel)",
   "language": "python",
   "name": "python3"
  },
  "language_info": {
   "codemirror_mode": {
    "name": "ipython",
    "version": 3
   },
   "file_extension": ".py",
   "mimetype": "text/x-python",
   "name": "python",
   "nbconvert_exporter": "python",
   "pygments_lexer": "ipython3",
   "version": "3.9.13"
  }
 },
 "nbformat": 4,
 "nbformat_minor": 5
}
