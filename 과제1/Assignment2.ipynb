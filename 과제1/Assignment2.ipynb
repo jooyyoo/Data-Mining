{
 "cells": [
  {
   "cell_type": "code",
   "execution_count": 32,
   "id": "0ff34b45",
   "metadata": {
    "scrolled": true
   },
   "outputs": [
    {
     "name": "stdout",
     "output_type": "stream",
     "text": [
      "길이를 입력하세요:100000\n"
     ]
    }
   ],
   "source": [
    "import numpy as np\n",
    "data_len = int(input(\"길이를 입력하세요:\"))\n",
    "x = np.random.rand(data_len)\n",
    "#randn 평균 0, 표준편차1의 평준정규분포 난수를 matirx array (m,n) 생성\n",
    "x = x.reshape(data_len//100,10,10)\n",
    "y = np.average(x,axis=0)\n",
    "z = np.savetxt('test.csv',y,delimiter=',')"
   ]
  },
  {
   "cell_type": "code",
   "execution_count": null,
   "id": "e5c00ab1",
   "metadata": {},
   "outputs": [],
   "source": []
  }
 ],
 "metadata": {
  "kernelspec": {
   "display_name": "Python 3 (ipykernel)",
   "language": "python",
   "name": "python3"
  },
  "language_info": {
   "codemirror_mode": {
    "name": "ipython",
    "version": 3
   },
   "file_extension": ".py",
   "mimetype": "text/x-python",
   "name": "python",
   "nbconvert_exporter": "python",
   "pygments_lexer": "ipython3",
   "version": "3.9.7"
  }
 },
 "nbformat": 4,
 "nbformat_minor": 5
}
