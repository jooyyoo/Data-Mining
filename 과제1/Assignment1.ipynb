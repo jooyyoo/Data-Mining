{
 "cells": [
  {
   "cell_type": "code",
   "execution_count": 1,
   "id": "67422a0c",
   "metadata": {
    "scrolled": true
   },
   "outputs": [
    {
     "name": "stdout",
     "output_type": "stream",
     "text": [
      "[(  1.,      1, b'a') (  4.,     32, b'aa') (  9.,    243, b'aa')\n",
      " ( 16.,   1024, b'aa') ( 25.,   3125, b'aa') ( 36.,   7776, b'aa')\n",
      " ( 49.,  16807, b'aa') ( 64., -32768, b'aa') ( 81.,  -6487, b'aa')\n",
      " (100., -31072, b'aa')]\n"
     ]
    }
   ],
   "source": [
    "import numpy as np\n",
    "a = np.zeros(3,dtype=[('a','f2'),('b','i2'),('c','S2')])\n",
    "a1 = np.zeros(7, dtype=[('a','f2'),('b','i2'),('c','S2')])\n",
    "arr = np.append(a,a1)\n",
    "for i in range(len(arr)):\n",
    "    arr[i] = ((i+1)**2,(i+1)**5,\"a\"*(i+1))\n",
    "a = arr\n",
    "print(a)"
   ]
  },
  {
   "cell_type": "code",
   "execution_count": null,
   "id": "0854cc77",
   "metadata": {},
   "outputs": [],
   "source": []
  }
 ],
 "metadata": {
  "kernelspec": {
   "display_name": "Python 3 (ipykernel)",
   "language": "python",
   "name": "python3"
  },
  "language_info": {
   "codemirror_mode": {
    "name": "ipython",
    "version": 3
   },
   "file_extension": ".py",
   "mimetype": "text/x-python",
   "name": "python",
   "nbconvert_exporter": "python",
   "pygments_lexer": "ipython3",
   "version": "3.9.7"
  }
 },
 "nbformat": 4,
 "nbformat_minor": 5
}
