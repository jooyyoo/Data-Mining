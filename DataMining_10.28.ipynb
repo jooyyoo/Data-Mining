{
 "cells": [
  {
   "cell_type": "code",
   "execution_count": 14,
   "id": "18116f57",
   "metadata": {},
   "outputs": [
    {
     "data": {
      "text/html": [
       "<div>\n",
       "<style scoped>\n",
       "    .dataframe tbody tr th:only-of-type {\n",
       "        vertical-align: middle;\n",
       "    }\n",
       "\n",
       "    .dataframe tbody tr th {\n",
       "        vertical-align: top;\n",
       "    }\n",
       "\n",
       "    .dataframe thead th {\n",
       "        text-align: right;\n",
       "    }\n",
       "</style>\n",
       "<table border=\"1\" class=\"dataframe\">\n",
       "  <thead>\n",
       "    <tr style=\"text-align: right;\">\n",
       "      <th></th>\n",
       "      <th>A</th>\n",
       "      <th>B</th>\n",
       "      <th>Data1</th>\n",
       "      <th>Data2</th>\n",
       "    </tr>\n",
       "  </thead>\n",
       "  <tbody>\n",
       "    <tr>\n",
       "      <th>0</th>\n",
       "      <td>ha</td>\n",
       "      <td>one</td>\n",
       "      <td>0.800788</td>\n",
       "      <td>0.482167</td>\n",
       "    </tr>\n",
       "    <tr>\n",
       "      <th>1</th>\n",
       "      <td>hi</td>\n",
       "      <td>two</td>\n",
       "      <td>0.359543</td>\n",
       "      <td>0.238633</td>\n",
       "    </tr>\n",
       "    <tr>\n",
       "      <th>2</th>\n",
       "      <td>ho</td>\n",
       "      <td>one</td>\n",
       "      <td>0.750564</td>\n",
       "      <td>0.211127</td>\n",
       "    </tr>\n",
       "    <tr>\n",
       "      <th>3</th>\n",
       "      <td>ha</td>\n",
       "      <td>one</td>\n",
       "      <td>0.386446</td>\n",
       "      <td>0.767975</td>\n",
       "    </tr>\n",
       "    <tr>\n",
       "      <th>4</th>\n",
       "      <td>ho</td>\n",
       "      <td>two</td>\n",
       "      <td>0.129723</td>\n",
       "      <td>0.744155</td>\n",
       "    </tr>\n",
       "  </tbody>\n",
       "</table>\n",
       "</div>"
      ],
      "text/plain": [
       "    A    B     Data1     Data2\n",
       "0  ha  one  0.800788  0.482167\n",
       "1  hi  two  0.359543  0.238633\n",
       "2  ho  one  0.750564  0.211127\n",
       "3  ha  one  0.386446  0.767975\n",
       "4  ho  two  0.129723  0.744155"
      ]
     },
     "execution_count": 14,
     "metadata": {},
     "output_type": "execute_result"
    }
   ],
   "source": [
    "import pandas as pd\n",
    "import numpy as np\n",
    "\n",
    "df = pd.DataFrame({'A':['ha','hi','ho','ha','ho'],\n",
    "                  'B':['one','two','one','one','two'],\n",
    "                  'Data1': np.random.rand(5),\n",
    "                  'Data2': np.random.rand(5)})\n",
    "df"
   ]
  },
  {
   "cell_type": "code",
   "execution_count": 18,
   "id": "87ae684b",
   "metadata": {},
   "outputs": [
    {
     "data": {
      "text/plain": [
       "<pandas.core.groupby.generic.DataFrameGroupBy object at 0x0000013E62BFE1C0>"
      ]
     },
     "execution_count": 18,
     "metadata": {},
     "output_type": "execute_result"
    }
   ],
   "source": [
    "df.groupby(['A'])"
   ]
  },
  {
   "cell_type": "code",
   "execution_count": 19,
   "id": "70b46b2c",
   "metadata": {},
   "outputs": [
    {
     "name": "stdout",
     "output_type": "stream",
     "text": [
      "{'ha':     A    B     Data1     Data2\n",
      "0  ha  one  0.800788  0.482167\n",
      "3  ha  one  0.386446  0.767975, 'hi':     A    B     Data1     Data2\n",
      "1  hi  two  0.359543  0.238633, 'ho':     A    B     Data1     Data2\n",
      "2  ho  one  0.750564  0.211127\n",
      "4  ho  two  0.129723  0.744155}\n"
     ]
    }
   ],
   "source": [
    "df1 = df.groupby(['A'])\n",
    "gr_dict = dict(list(df1))\n",
    "print(gr_dict)"
   ]
  },
  {
   "cell_type": "code",
   "execution_count": 17,
   "id": "2c263e21",
   "metadata": {},
   "outputs": [
    {
     "name": "stdout",
     "output_type": "stream",
     "text": [
      "    A    B     Data1     Data2\n",
      "2  ho  one  0.750564  0.211127\n",
      "4  ho  two  0.129723  0.744155\n",
      "    A    B     Data1     Data2\n",
      "0  ha  one  0.800788  0.482167\n",
      "3  ha  one  0.386446  0.767975\n"
     ]
    }
   ],
   "source": [
    "print(df1.get_group('ho'))\n",
    "df2 = df.groupby(['A','B']).get_group(('ha','one'))\n",
    "print(df2)"
   ]
  },
  {
   "cell_type": "code",
   "execution_count": 13,
   "id": "f1e3d627",
   "metadata": {},
   "outputs": [
    {
     "name": "stdout",
     "output_type": "stream",
     "text": [
      "<pandas.core.groupby.generic.SeriesGroupBy object at 0x0000013E62BFE400>\n"
     ]
    }
   ],
   "source": [
    "df3 = df['Data2'].groupby(df['B'])\n",
    "#print(df3.mean())\n",
    "print(df3)"
   ]
  },
  {
   "cell_type": "code",
   "execution_count": 11,
   "id": "50635d45",
   "metadata": {},
   "outputs": [
    {
     "name": "stdout",
     "output_type": "stream",
     "text": [
      "    A    B     Data1\n",
      "0  ho  two  0.193928\n",
      "1  hi  one  0.637837\n",
      "2  ha  two  0.735946\n",
      "       Data1\n",
      "A           \n",
      "ha  0.735946\n",
      "hi  0.637837\n",
      "ho  0.193928\n"
     ]
    }
   ],
   "source": [
    "df2 = pd.DataFrame({'A':['ho','hi','ha'],\n",
    "                  'B':['two','one','two'],\n",
    "                  'Data1': np.random.rand(3)})\n",
    "print(df2)\n",
    "print(df2.groupby(['A']).sum())"
   ]
  },
  {
   "cell_type": "code",
   "execution_count": 12,
   "id": "1317d41a",
   "metadata": {},
   "outputs": [
    {
     "data": {
      "text/html": [
       "<div>\n",
       "<style scoped>\n",
       "    .dataframe tbody tr th:only-of-type {\n",
       "        vertical-align: middle;\n",
       "    }\n",
       "\n",
       "    .dataframe tbody tr th {\n",
       "        vertical-align: top;\n",
       "    }\n",
       "\n",
       "    .dataframe thead th {\n",
       "        text-align: right;\n",
       "    }\n",
       "</style>\n",
       "<table border=\"1\" class=\"dataframe\">\n",
       "  <thead>\n",
       "    <tr style=\"text-align: right;\">\n",
       "      <th></th>\n",
       "      <th>Data1</th>\n",
       "    </tr>\n",
       "    <tr>\n",
       "      <th>A</th>\n",
       "      <th></th>\n",
       "    </tr>\n",
       "  </thead>\n",
       "  <tbody>\n",
       "    <tr>\n",
       "      <th>ho</th>\n",
       "      <td>0.193928</td>\n",
       "    </tr>\n",
       "    <tr>\n",
       "      <th>hi</th>\n",
       "      <td>0.637837</td>\n",
       "    </tr>\n",
       "    <tr>\n",
       "      <th>ha</th>\n",
       "      <td>0.735946</td>\n",
       "    </tr>\n",
       "  </tbody>\n",
       "</table>\n",
       "</div>"
      ],
      "text/plain": [
       "       Data1\n",
       "A           \n",
       "ho  0.193928\n",
       "hi  0.637837\n",
       "ha  0.735946"
      ]
     },
     "execution_count": 12,
     "metadata": {},
     "output_type": "execute_result"
    }
   ],
   "source": [
    "df2.groupby('A',sort = False).sum() #순서정렬 없이"
   ]
  },
  {
   "cell_type": "code",
   "execution_count": 36,
   "id": "e6c99aeb",
   "metadata": {},
   "outputs": [],
   "source": [
    "arr = [['ha','ha','hi','hi','ho','ho'],['one','two','one','one','two','two']]\n",
    "ind = pd.MultiIndex.from_arrays(arr,names = ['1st','2nd'])\n",
    "#print(ind)\n",
    "ser = pd.Series(np.random.randn(6), index = ind)\n",
    "#print(ser)\n",
    "#print(ser.groupby(['1st','2nd']).mean())"
   ]
  },
  {
   "cell_type": "code",
   "execution_count": 37,
   "id": "dfb319a2",
   "metadata": {},
   "outputs": [
    {
     "data": {
      "text/plain": [
       "MultiIndex([('ha', 'one'),\n",
       "            ('ha', 'two'),\n",
       "            ('hi', 'one'),\n",
       "            ('hi', 'one'),\n",
       "            ('ho', 'two'),\n",
       "            ('ho', 'two')],\n",
       "           names=['1st', '2nd'])"
      ]
     },
     "execution_count": 37,
     "metadata": {},
     "output_type": "execute_result"
    }
   ],
   "source": [
    "ind"
   ]
  },
  {
   "cell_type": "code",
   "execution_count": 38,
   "id": "6b24c94d",
   "metadata": {},
   "outputs": [
    {
     "data": {
      "text/plain": [
       "1st  2nd\n",
       "ha   one    0.807032\n",
       "     two   -0.608389\n",
       "hi   one   -0.523520\n",
       "     one   -0.761764\n",
       "ho   two    0.341911\n",
       "     two   -0.875647\n",
       "dtype: float64"
      ]
     },
     "execution_count": 38,
     "metadata": {},
     "output_type": "execute_result"
    }
   ],
   "source": [
    "ser"
   ]
  },
  {
   "cell_type": "code",
   "execution_count": 27,
   "id": "e25e5e84",
   "metadata": {},
   "outputs": [
    {
     "name": "stdout",
     "output_type": "stream",
     "text": [
      "ha\n",
      "    A    B     Data1     Data2\n",
      "0  ha  one  0.800788  0.482167\n",
      "3  ha  one  0.386446  0.767975\n",
      "hi\n",
      "    A    B     Data1     Data2\n",
      "1  hi  two  0.359543  0.238633\n",
      "ho\n",
      "    A    B     Data1     Data2\n",
      "2  ho  one  0.750564  0.211127\n",
      "4  ho  two  0.129723  0.744155\n"
     ]
    }
   ],
   "source": [
    "for name, group in df.groupby('A'):\n",
    "    print(name)\n",
    "    print(group)"
   ]
  },
  {
   "cell_type": "code",
   "execution_count": 35,
   "id": "e0053dff",
   "metadata": {},
   "outputs": [
    {
     "data": {
      "text/html": [
       "<div>\n",
       "<style scoped>\n",
       "    .dataframe tbody tr th:only-of-type {\n",
       "        vertical-align: middle;\n",
       "    }\n",
       "\n",
       "    .dataframe tbody tr th {\n",
       "        vertical-align: top;\n",
       "    }\n",
       "\n",
       "    .dataframe thead th {\n",
       "        text-align: right;\n",
       "    }\n",
       "</style>\n",
       "<table border=\"1\" class=\"dataframe\">\n",
       "  <thead>\n",
       "    <tr style=\"text-align: right;\">\n",
       "      <th></th>\n",
       "      <th>A</th>\n",
       "      <th>B</th>\n",
       "      <th>Data1</th>\n",
       "      <th>Data2</th>\n",
       "    </tr>\n",
       "  </thead>\n",
       "  <tbody>\n",
       "    <tr>\n",
       "      <th>0</th>\n",
       "      <td>ha</td>\n",
       "      <td>one</td>\n",
       "      <td>0.646421</td>\n",
       "      <td>0.811266</td>\n",
       "    </tr>\n",
       "    <tr>\n",
       "      <th>1</th>\n",
       "      <td>hi</td>\n",
       "      <td>two</td>\n",
       "      <td>0.845231</td>\n",
       "      <td>0.358712</td>\n",
       "    </tr>\n",
       "    <tr>\n",
       "      <th>2</th>\n",
       "      <td>ho</td>\n",
       "      <td>one</td>\n",
       "      <td>0.334992</td>\n",
       "      <td>0.908787</td>\n",
       "    </tr>\n",
       "    <tr>\n",
       "      <th>3</th>\n",
       "      <td>ha</td>\n",
       "      <td>one</td>\n",
       "      <td>0.551091</td>\n",
       "      <td>0.875301</td>\n",
       "    </tr>\n",
       "    <tr>\n",
       "      <th>4</th>\n",
       "      <td>ho</td>\n",
       "      <td>two</td>\n",
       "      <td>0.517502</td>\n",
       "      <td>0.235278</td>\n",
       "    </tr>\n",
       "  </tbody>\n",
       "</table>\n",
       "</div>"
      ],
      "text/plain": [
       "    A    B     Data1     Data2\n",
       "0  ha  one  0.646421  0.811266\n",
       "1  hi  two  0.845231  0.358712\n",
       "2  ho  one  0.334992  0.908787\n",
       "3  ha  one  0.551091  0.875301\n",
       "4  ho  two  0.517502  0.235278"
      ]
     },
     "execution_count": 35,
     "metadata": {},
     "output_type": "execute_result"
    }
   ],
   "source": [
    "df = pd.DataFrame({'A':['ha','hi','ho','ha','ho'],\n",
    "                  'B':['one','two','one','one','two'],\n",
    "                  'Data1': np.random.rand(5),\n",
    "                  'Data2': np.random.rand(5)})\n",
    "df"
   ]
  },
  {
   "cell_type": "code",
   "execution_count": 42,
   "id": "a3a49768",
   "metadata": {},
   "outputs": [
    {
     "name": "stdout",
     "output_type": "stream",
     "text": [
      "{'ha': [0, 3], 'hi': [1], 'ho': [2, 4]}\n"
     ]
    }
   ],
   "source": [
    "df1 = df.groupby('A')\n",
    "print(df1.groups)"
   ]
  },
  {
   "cell_type": "code",
   "execution_count": 43,
   "id": "816f712a",
   "metadata": {},
   "outputs": [
    {
     "name": "stdout",
     "output_type": "stream",
     "text": [
      "       Data1     Data2\n",
      "A                     \n",
      "ha  1.197512  1.686567\n",
      "hi  0.845231  0.358712\n",
      "ho  0.852494  1.144064\n"
     ]
    }
   ],
   "source": [
    "print(df1.agg(sum))"
   ]
  },
  {
   "cell_type": "code",
   "execution_count": 45,
   "id": "938280ce",
   "metadata": {},
   "outputs": [
    {
     "name": "stdout",
     "output_type": "stream",
     "text": [
      "           Data1     Data2\n",
      "A  B                      \n",
      "ha one  1.197512  1.686567\n",
      "hi two  0.845231  0.358712\n",
      "ho one  0.334992  0.908787\n",
      "   two  0.517502  0.235278\n",
      "    A    B  Data1  Data2\n",
      "0  ha  one      2      2\n",
      "1  hi  two      1      1\n",
      "2  ho  one      1      1\n",
      "3  ho  two      1      1\n",
      "    A    B  size\n",
      "0  ha  one     2\n",
      "1  hi  two     1\n",
      "2  ho  one     1\n",
      "3  ho  two     1\n"
     ]
    }
   ],
   "source": [
    "df2 = df.groupby(['A','B'])\n",
    "df2_1 = df.groupby(['A','B'], as_index = False)\n",
    "print(df2.agg(sum))\n",
    "print(df2_1.count())\n",
    "print(df2_1.size())"
   ]
  },
  {
   "cell_type": "code",
   "execution_count": 46,
   "id": "4762e1f7",
   "metadata": {},
   "outputs": [
    {
     "name": "stdout",
     "output_type": "stream",
     "text": [
      "       Data2     Data1\n",
      "A                     \n",
      "ha  1.686567  0.598756\n",
      "hi  0.358712  0.845231\n",
      "ho  1.144064  0.426247\n"
     ]
    }
   ],
   "source": [
    "print(df1.agg({'Data2': np.sum, 'Data1': lambda x : np.mean(x)}))"
   ]
  },
  {
   "cell_type": "code",
   "execution_count": 56,
   "id": "d3c0dea0",
   "metadata": {},
   "outputs": [],
   "source": [
    "df1 = pd.DataFrame({'A':['ha','hi','ho','ha','ho'],\n",
    "                  'B':['one','two','one','one','two'],\n",
    "                  'Data1': np.random.rand(5),\n",
    "                  'Data2': np.random.rand(5)},index = [0,1,2,3,4])\n",
    "df2 = pd.DataFrame({'A':['ha','hi','ho','ha','ho'],\n",
    "                  'B':['one','two','one','one','two'],\n",
    "                  'Data1': np.random.rand(5),\n",
    "                  'Data2': np.random.rand(5)},index = [0,1,2,3,4])\n",
    "df3 = pd.DataFrame({'A':['ha','hi','ho','ha','ho'],\n",
    "                  'B':['one','two','one','one','two'],\n",
    "                  'Data1': np.random.rand(5),\n",
    "                  'Data2': np.random.rand(5)},index = [0,1,2,3,4])\n",
    "\n",
    "df_c = [df1,df2,df3]\n",
    "df4 = pd.concat(df_c)"
   ]
  },
  {
   "cell_type": "code",
   "execution_count": 57,
   "id": "746072bc",
   "metadata": {},
   "outputs": [
    {
     "data": {
      "text/html": [
       "<div>\n",
       "<style scoped>\n",
       "    .dataframe tbody tr th:only-of-type {\n",
       "        vertical-align: middle;\n",
       "    }\n",
       "\n",
       "    .dataframe tbody tr th {\n",
       "        vertical-align: top;\n",
       "    }\n",
       "\n",
       "    .dataframe thead th {\n",
       "        text-align: right;\n",
       "    }\n",
       "</style>\n",
       "<table border=\"1\" class=\"dataframe\">\n",
       "  <thead>\n",
       "    <tr style=\"text-align: right;\">\n",
       "      <th></th>\n",
       "      <th>A</th>\n",
       "      <th>B</th>\n",
       "      <th>Data1</th>\n",
       "      <th>Data2</th>\n",
       "    </tr>\n",
       "  </thead>\n",
       "  <tbody>\n",
       "    <tr>\n",
       "      <th>0</th>\n",
       "      <td>ha</td>\n",
       "      <td>one</td>\n",
       "      <td>0.754813</td>\n",
       "      <td>0.007378</td>\n",
       "    </tr>\n",
       "    <tr>\n",
       "      <th>1</th>\n",
       "      <td>hi</td>\n",
       "      <td>two</td>\n",
       "      <td>0.492588</td>\n",
       "      <td>0.794184</td>\n",
       "    </tr>\n",
       "    <tr>\n",
       "      <th>2</th>\n",
       "      <td>ho</td>\n",
       "      <td>one</td>\n",
       "      <td>0.711638</td>\n",
       "      <td>0.965155</td>\n",
       "    </tr>\n",
       "    <tr>\n",
       "      <th>3</th>\n",
       "      <td>ha</td>\n",
       "      <td>one</td>\n",
       "      <td>0.884553</td>\n",
       "      <td>0.793868</td>\n",
       "    </tr>\n",
       "    <tr>\n",
       "      <th>4</th>\n",
       "      <td>ho</td>\n",
       "      <td>two</td>\n",
       "      <td>0.997241</td>\n",
       "      <td>0.354247</td>\n",
       "    </tr>\n",
       "    <tr>\n",
       "      <th>0</th>\n",
       "      <td>ha</td>\n",
       "      <td>one</td>\n",
       "      <td>0.522193</td>\n",
       "      <td>0.319755</td>\n",
       "    </tr>\n",
       "    <tr>\n",
       "      <th>1</th>\n",
       "      <td>hi</td>\n",
       "      <td>two</td>\n",
       "      <td>0.873412</td>\n",
       "      <td>0.995968</td>\n",
       "    </tr>\n",
       "    <tr>\n",
       "      <th>2</th>\n",
       "      <td>ho</td>\n",
       "      <td>one</td>\n",
       "      <td>0.147248</td>\n",
       "      <td>0.070636</td>\n",
       "    </tr>\n",
       "    <tr>\n",
       "      <th>3</th>\n",
       "      <td>ha</td>\n",
       "      <td>one</td>\n",
       "      <td>0.524391</td>\n",
       "      <td>0.501679</td>\n",
       "    </tr>\n",
       "    <tr>\n",
       "      <th>4</th>\n",
       "      <td>ho</td>\n",
       "      <td>two</td>\n",
       "      <td>0.905779</td>\n",
       "      <td>0.850580</td>\n",
       "    </tr>\n",
       "    <tr>\n",
       "      <th>0</th>\n",
       "      <td>ha</td>\n",
       "      <td>one</td>\n",
       "      <td>0.589368</td>\n",
       "      <td>0.700504</td>\n",
       "    </tr>\n",
       "    <tr>\n",
       "      <th>1</th>\n",
       "      <td>hi</td>\n",
       "      <td>two</td>\n",
       "      <td>0.123065</td>\n",
       "      <td>0.024700</td>\n",
       "    </tr>\n",
       "    <tr>\n",
       "      <th>2</th>\n",
       "      <td>ho</td>\n",
       "      <td>one</td>\n",
       "      <td>0.381766</td>\n",
       "      <td>0.882736</td>\n",
       "    </tr>\n",
       "    <tr>\n",
       "      <th>3</th>\n",
       "      <td>ha</td>\n",
       "      <td>one</td>\n",
       "      <td>0.612863</td>\n",
       "      <td>0.851318</td>\n",
       "    </tr>\n",
       "    <tr>\n",
       "      <th>4</th>\n",
       "      <td>ho</td>\n",
       "      <td>two</td>\n",
       "      <td>0.054853</td>\n",
       "      <td>0.098441</td>\n",
       "    </tr>\n",
       "  </tbody>\n",
       "</table>\n",
       "</div>"
      ],
      "text/plain": [
       "    A    B     Data1     Data2\n",
       "0  ha  one  0.754813  0.007378\n",
       "1  hi  two  0.492588  0.794184\n",
       "2  ho  one  0.711638  0.965155\n",
       "3  ha  one  0.884553  0.793868\n",
       "4  ho  two  0.997241  0.354247\n",
       "0  ha  one  0.522193  0.319755\n",
       "1  hi  two  0.873412  0.995968\n",
       "2  ho  one  0.147248  0.070636\n",
       "3  ha  one  0.524391  0.501679\n",
       "4  ho  two  0.905779  0.850580\n",
       "0  ha  one  0.589368  0.700504\n",
       "1  hi  two  0.123065  0.024700\n",
       "2  ho  one  0.381766  0.882736\n",
       "3  ha  one  0.612863  0.851318\n",
       "4  ho  two  0.054853  0.098441"
      ]
     },
     "execution_count": 57,
     "metadata": {},
     "output_type": "execute_result"
    }
   ],
   "source": [
    "df4"
   ]
  },
  {
   "cell_type": "code",
   "execution_count": 49,
   "id": "ce556014",
   "metadata": {},
   "outputs": [
    {
     "data": {
      "text/html": [
       "<div>\n",
       "<style scoped>\n",
       "    .dataframe tbody tr th:only-of-type {\n",
       "        vertical-align: middle;\n",
       "    }\n",
       "\n",
       "    .dataframe tbody tr th {\n",
       "        vertical-align: top;\n",
       "    }\n",
       "\n",
       "    .dataframe thead th {\n",
       "        text-align: right;\n",
       "    }\n",
       "</style>\n",
       "<table border=\"1\" class=\"dataframe\">\n",
       "  <thead>\n",
       "    <tr style=\"text-align: right;\">\n",
       "      <th></th>\n",
       "      <th>index</th>\n",
       "      <th>A</th>\n",
       "      <th>B</th>\n",
       "      <th>Data1</th>\n",
       "      <th>Data2</th>\n",
       "    </tr>\n",
       "  </thead>\n",
       "  <tbody>\n",
       "    <tr>\n",
       "      <th>0</th>\n",
       "      <td>0</td>\n",
       "      <td>ha</td>\n",
       "      <td>one</td>\n",
       "      <td>0.317915</td>\n",
       "      <td>0.051067</td>\n",
       "    </tr>\n",
       "    <tr>\n",
       "      <th>1</th>\n",
       "      <td>1</td>\n",
       "      <td>hi</td>\n",
       "      <td>two</td>\n",
       "      <td>0.644072</td>\n",
       "      <td>0.342410</td>\n",
       "    </tr>\n",
       "    <tr>\n",
       "      <th>2</th>\n",
       "      <td>2</td>\n",
       "      <td>ho</td>\n",
       "      <td>one</td>\n",
       "      <td>0.169844</td>\n",
       "      <td>0.490428</td>\n",
       "    </tr>\n",
       "    <tr>\n",
       "      <th>3</th>\n",
       "      <td>3</td>\n",
       "      <td>ha</td>\n",
       "      <td>one</td>\n",
       "      <td>0.623240</td>\n",
       "      <td>0.107307</td>\n",
       "    </tr>\n",
       "    <tr>\n",
       "      <th>4</th>\n",
       "      <td>4</td>\n",
       "      <td>ho</td>\n",
       "      <td>two</td>\n",
       "      <td>0.922825</td>\n",
       "      <td>0.300020</td>\n",
       "    </tr>\n",
       "    <tr>\n",
       "      <th>5</th>\n",
       "      <td>0</td>\n",
       "      <td>ha</td>\n",
       "      <td>one</td>\n",
       "      <td>0.260464</td>\n",
       "      <td>0.432293</td>\n",
       "    </tr>\n",
       "    <tr>\n",
       "      <th>6</th>\n",
       "      <td>1</td>\n",
       "      <td>hi</td>\n",
       "      <td>two</td>\n",
       "      <td>0.982645</td>\n",
       "      <td>0.543410</td>\n",
       "    </tr>\n",
       "    <tr>\n",
       "      <th>7</th>\n",
       "      <td>2</td>\n",
       "      <td>ho</td>\n",
       "      <td>one</td>\n",
       "      <td>0.615274</td>\n",
       "      <td>0.483239</td>\n",
       "    </tr>\n",
       "    <tr>\n",
       "      <th>8</th>\n",
       "      <td>3</td>\n",
       "      <td>ha</td>\n",
       "      <td>one</td>\n",
       "      <td>0.420734</td>\n",
       "      <td>0.624052</td>\n",
       "    </tr>\n",
       "    <tr>\n",
       "      <th>9</th>\n",
       "      <td>4</td>\n",
       "      <td>ho</td>\n",
       "      <td>two</td>\n",
       "      <td>0.749641</td>\n",
       "      <td>0.204536</td>\n",
       "    </tr>\n",
       "    <tr>\n",
       "      <th>10</th>\n",
       "      <td>0</td>\n",
       "      <td>ha</td>\n",
       "      <td>one</td>\n",
       "      <td>0.117405</td>\n",
       "      <td>0.560165</td>\n",
       "    </tr>\n",
       "    <tr>\n",
       "      <th>11</th>\n",
       "      <td>1</td>\n",
       "      <td>hi</td>\n",
       "      <td>two</td>\n",
       "      <td>0.803126</td>\n",
       "      <td>0.257295</td>\n",
       "    </tr>\n",
       "    <tr>\n",
       "      <th>12</th>\n",
       "      <td>2</td>\n",
       "      <td>ho</td>\n",
       "      <td>one</td>\n",
       "      <td>0.984845</td>\n",
       "      <td>0.631578</td>\n",
       "    </tr>\n",
       "    <tr>\n",
       "      <th>13</th>\n",
       "      <td>3</td>\n",
       "      <td>ha</td>\n",
       "      <td>one</td>\n",
       "      <td>0.129957</td>\n",
       "      <td>0.515905</td>\n",
       "    </tr>\n",
       "    <tr>\n",
       "      <th>14</th>\n",
       "      <td>4</td>\n",
       "      <td>ho</td>\n",
       "      <td>two</td>\n",
       "      <td>0.422869</td>\n",
       "      <td>0.111459</td>\n",
       "    </tr>\n",
       "  </tbody>\n",
       "</table>\n",
       "</div>"
      ],
      "text/plain": [
       "    index   A    B     Data1     Data2\n",
       "0       0  ha  one  0.317915  0.051067\n",
       "1       1  hi  two  0.644072  0.342410\n",
       "2       2  ho  one  0.169844  0.490428\n",
       "3       3  ha  one  0.623240  0.107307\n",
       "4       4  ho  two  0.922825  0.300020\n",
       "5       0  ha  one  0.260464  0.432293\n",
       "6       1  hi  two  0.982645  0.543410\n",
       "7       2  ho  one  0.615274  0.483239\n",
       "8       3  ha  one  0.420734  0.624052\n",
       "9       4  ho  two  0.749641  0.204536\n",
       "10      0  ha  one  0.117405  0.560165\n",
       "11      1  hi  two  0.803126  0.257295\n",
       "12      2  ho  one  0.984845  0.631578\n",
       "13      3  ha  one  0.129957  0.515905\n",
       "14      4  ho  two  0.422869  0.111459"
      ]
     },
     "execution_count": 49,
     "metadata": {},
     "output_type": "execute_result"
    }
   ],
   "source": [
    "df4.reset_index()"
   ]
  },
  {
   "cell_type": "code",
   "execution_count": 50,
   "id": "87aca277",
   "metadata": {},
   "outputs": [
    {
     "data": {
      "text/plain": [
       "0    0.003179\n",
       "1    0.006441\n",
       "2    0.001698\n",
       "3    0.006232\n",
       "4    0.009228\n",
       "0    0.002605\n",
       "1    0.009826\n",
       "2    0.006153\n",
       "3    0.004207\n",
       "4    0.007496\n",
       "0    0.001174\n",
       "1    0.008031\n",
       "2    0.009848\n",
       "3    0.001300\n",
       "4    0.004229\n",
       "Name: Data1, dtype: float64"
      ]
     },
     "execution_count": 50,
     "metadata": {},
     "output_type": "execute_result"
    }
   ],
   "source": [
    "'''중요한 apply'''\n",
    "df4_1 = df4['Data1'].apply(lambda x : x/100)\n",
    "df4_1"
   ]
  },
  {
   "cell_type": "code",
   "execution_count": 58,
   "id": "c50adae0",
   "metadata": {},
   "outputs": [],
   "source": [
    "df4[\"Data1_c\"] = df4['Data1'].apply(lambda x : x/100)\n",
    "df4[\"Data1_d\"] = df4['Data1'] > df4[\"Data1_c\"]"
   ]
  },
  {
   "cell_type": "code",
   "execution_count": 59,
   "id": "90c50b9b",
   "metadata": {},
   "outputs": [
    {
     "data": {
      "text/html": [
       "<div>\n",
       "<style scoped>\n",
       "    .dataframe tbody tr th:only-of-type {\n",
       "        vertical-align: middle;\n",
       "    }\n",
       "\n",
       "    .dataframe tbody tr th {\n",
       "        vertical-align: top;\n",
       "    }\n",
       "\n",
       "    .dataframe thead th {\n",
       "        text-align: right;\n",
       "    }\n",
       "</style>\n",
       "<table border=\"1\" class=\"dataframe\">\n",
       "  <thead>\n",
       "    <tr style=\"text-align: right;\">\n",
       "      <th></th>\n",
       "      <th>A</th>\n",
       "      <th>B</th>\n",
       "      <th>Data1</th>\n",
       "      <th>Data2</th>\n",
       "      <th>Data1_c</th>\n",
       "      <th>Data1_d</th>\n",
       "    </tr>\n",
       "  </thead>\n",
       "  <tbody>\n",
       "    <tr>\n",
       "      <th>0</th>\n",
       "      <td>ha</td>\n",
       "      <td>one</td>\n",
       "      <td>0.754813</td>\n",
       "      <td>0.007378</td>\n",
       "      <td>0.007548</td>\n",
       "      <td>True</td>\n",
       "    </tr>\n",
       "    <tr>\n",
       "      <th>1</th>\n",
       "      <td>hi</td>\n",
       "      <td>two</td>\n",
       "      <td>0.492588</td>\n",
       "      <td>0.794184</td>\n",
       "      <td>0.004926</td>\n",
       "      <td>True</td>\n",
       "    </tr>\n",
       "    <tr>\n",
       "      <th>2</th>\n",
       "      <td>ho</td>\n",
       "      <td>one</td>\n",
       "      <td>0.711638</td>\n",
       "      <td>0.965155</td>\n",
       "      <td>0.007116</td>\n",
       "      <td>True</td>\n",
       "    </tr>\n",
       "    <tr>\n",
       "      <th>3</th>\n",
       "      <td>ha</td>\n",
       "      <td>one</td>\n",
       "      <td>0.884553</td>\n",
       "      <td>0.793868</td>\n",
       "      <td>0.008846</td>\n",
       "      <td>True</td>\n",
       "    </tr>\n",
       "    <tr>\n",
       "      <th>4</th>\n",
       "      <td>ho</td>\n",
       "      <td>two</td>\n",
       "      <td>0.997241</td>\n",
       "      <td>0.354247</td>\n",
       "      <td>0.009972</td>\n",
       "      <td>True</td>\n",
       "    </tr>\n",
       "    <tr>\n",
       "      <th>0</th>\n",
       "      <td>ha</td>\n",
       "      <td>one</td>\n",
       "      <td>0.522193</td>\n",
       "      <td>0.319755</td>\n",
       "      <td>0.005222</td>\n",
       "      <td>True</td>\n",
       "    </tr>\n",
       "    <tr>\n",
       "      <th>1</th>\n",
       "      <td>hi</td>\n",
       "      <td>two</td>\n",
       "      <td>0.873412</td>\n",
       "      <td>0.995968</td>\n",
       "      <td>0.008734</td>\n",
       "      <td>True</td>\n",
       "    </tr>\n",
       "    <tr>\n",
       "      <th>2</th>\n",
       "      <td>ho</td>\n",
       "      <td>one</td>\n",
       "      <td>0.147248</td>\n",
       "      <td>0.070636</td>\n",
       "      <td>0.001472</td>\n",
       "      <td>True</td>\n",
       "    </tr>\n",
       "    <tr>\n",
       "      <th>3</th>\n",
       "      <td>ha</td>\n",
       "      <td>one</td>\n",
       "      <td>0.524391</td>\n",
       "      <td>0.501679</td>\n",
       "      <td>0.005244</td>\n",
       "      <td>True</td>\n",
       "    </tr>\n",
       "    <tr>\n",
       "      <th>4</th>\n",
       "      <td>ho</td>\n",
       "      <td>two</td>\n",
       "      <td>0.905779</td>\n",
       "      <td>0.850580</td>\n",
       "      <td>0.009058</td>\n",
       "      <td>True</td>\n",
       "    </tr>\n",
       "    <tr>\n",
       "      <th>0</th>\n",
       "      <td>ha</td>\n",
       "      <td>one</td>\n",
       "      <td>0.589368</td>\n",
       "      <td>0.700504</td>\n",
       "      <td>0.005894</td>\n",
       "      <td>True</td>\n",
       "    </tr>\n",
       "    <tr>\n",
       "      <th>1</th>\n",
       "      <td>hi</td>\n",
       "      <td>two</td>\n",
       "      <td>0.123065</td>\n",
       "      <td>0.024700</td>\n",
       "      <td>0.001231</td>\n",
       "      <td>True</td>\n",
       "    </tr>\n",
       "    <tr>\n",
       "      <th>2</th>\n",
       "      <td>ho</td>\n",
       "      <td>one</td>\n",
       "      <td>0.381766</td>\n",
       "      <td>0.882736</td>\n",
       "      <td>0.003818</td>\n",
       "      <td>True</td>\n",
       "    </tr>\n",
       "    <tr>\n",
       "      <th>3</th>\n",
       "      <td>ha</td>\n",
       "      <td>one</td>\n",
       "      <td>0.612863</td>\n",
       "      <td>0.851318</td>\n",
       "      <td>0.006129</td>\n",
       "      <td>True</td>\n",
       "    </tr>\n",
       "    <tr>\n",
       "      <th>4</th>\n",
       "      <td>ho</td>\n",
       "      <td>two</td>\n",
       "      <td>0.054853</td>\n",
       "      <td>0.098441</td>\n",
       "      <td>0.000549</td>\n",
       "      <td>True</td>\n",
       "    </tr>\n",
       "  </tbody>\n",
       "</table>\n",
       "</div>"
      ],
      "text/plain": [
       "    A    B     Data1     Data2   Data1_c  Data1_d\n",
       "0  ha  one  0.754813  0.007378  0.007548     True\n",
       "1  hi  two  0.492588  0.794184  0.004926     True\n",
       "2  ho  one  0.711638  0.965155  0.007116     True\n",
       "3  ha  one  0.884553  0.793868  0.008846     True\n",
       "4  ho  two  0.997241  0.354247  0.009972     True\n",
       "0  ha  one  0.522193  0.319755  0.005222     True\n",
       "1  hi  two  0.873412  0.995968  0.008734     True\n",
       "2  ho  one  0.147248  0.070636  0.001472     True\n",
       "3  ha  one  0.524391  0.501679  0.005244     True\n",
       "4  ho  two  0.905779  0.850580  0.009058     True\n",
       "0  ha  one  0.589368  0.700504  0.005894     True\n",
       "1  hi  two  0.123065  0.024700  0.001231     True\n",
       "2  ho  one  0.381766  0.882736  0.003818     True\n",
       "3  ha  one  0.612863  0.851318  0.006129     True\n",
       "4  ho  two  0.054853  0.098441  0.000549     True"
      ]
     },
     "execution_count": 59,
     "metadata": {},
     "output_type": "execute_result"
    }
   ],
   "source": [
    "df4"
   ]
  },
  {
   "cell_type": "code",
   "execution_count": 60,
   "id": "073166c0",
   "metadata": {},
   "outputs": [
    {
     "name": "stdout",
     "output_type": "stream",
     "text": [
      "    A    B     Data1     Data2   Data1_c  Data1_d\n",
      "0  ha  one  0.754813  0.007378  0.007548     True\n",
      "1  hi  two  0.492588  0.794184  0.004926     True\n",
      "2  ho  one  0.711638  0.965155  0.007116     True\n",
      "3  ha  one  0.884553  0.793868  0.008846     True\n",
      "4  ho  two  0.997241  0.354247  0.009972     True\n",
      "0  ha  one  0.522193  0.319755  0.005222     True\n",
      "1  hi  two  0.873412  0.995968  0.008734     True\n",
      "2  ho  one  0.147248  0.070636  0.001472     True\n",
      "3  ha  one  0.524391  0.501679  0.005244     True\n",
      "4  ho  two  0.905779  0.850580  0.009058     True\n",
      "0  ha  one  0.589368  0.700504  0.005894     True\n",
      "1  hi  two  0.123065  0.024700  0.001231     True\n",
      "2  ho  one  0.381766  0.882736  0.003818     True\n",
      "3  ha  one  0.612863  0.851318  0.006129     True\n",
      "4  ho  two  0.054853  0.098441  0.000549     True\n"
     ]
    }
   ],
   "source": [
    "print(df4.sort_values(by='Data1_d'))"
   ]
  },
  {
   "cell_type": "code",
   "execution_count": 61,
   "id": "e11b1606",
   "metadata": {},
   "outputs": [
    {
     "data": {
      "text/html": [
       "<div>\n",
       "<style scoped>\n",
       "    .dataframe tbody tr th:only-of-type {\n",
       "        vertical-align: middle;\n",
       "    }\n",
       "\n",
       "    .dataframe tbody tr th {\n",
       "        vertical-align: top;\n",
       "    }\n",
       "\n",
       "    .dataframe thead th {\n",
       "        text-align: right;\n",
       "    }\n",
       "</style>\n",
       "<table border=\"1\" class=\"dataframe\">\n",
       "  <thead>\n",
       "    <tr style=\"text-align: right;\">\n",
       "      <th></th>\n",
       "      <th>A</th>\n",
       "      <th>B</th>\n",
       "      <th>Data1</th>\n",
       "      <th>Data2</th>\n",
       "      <th>Data1_c</th>\n",
       "      <th>Data1_d</th>\n",
       "    </tr>\n",
       "  </thead>\n",
       "  <tbody>\n",
       "    <tr>\n",
       "      <th>0</th>\n",
       "      <td>ha</td>\n",
       "      <td>one</td>\n",
       "      <td>0.754813</td>\n",
       "      <td>0.007378</td>\n",
       "      <td>0.007548</td>\n",
       "      <td>True</td>\n",
       "    </tr>\n",
       "    <tr>\n",
       "      <th>1</th>\n",
       "      <td>hi</td>\n",
       "      <td>two</td>\n",
       "      <td>0.492588</td>\n",
       "      <td>0.794184</td>\n",
       "      <td>0.004926</td>\n",
       "      <td>True</td>\n",
       "    </tr>\n",
       "    <tr>\n",
       "      <th>2</th>\n",
       "      <td>ho</td>\n",
       "      <td>one</td>\n",
       "      <td>0.711638</td>\n",
       "      <td>0.965155</td>\n",
       "      <td>0.007116</td>\n",
       "      <td>True</td>\n",
       "    </tr>\n",
       "    <tr>\n",
       "      <th>3</th>\n",
       "      <td>ha</td>\n",
       "      <td>one</td>\n",
       "      <td>0.884553</td>\n",
       "      <td>0.793868</td>\n",
       "      <td>0.008846</td>\n",
       "      <td>True</td>\n",
       "    </tr>\n",
       "    <tr>\n",
       "      <th>4</th>\n",
       "      <td>ho</td>\n",
       "      <td>two</td>\n",
       "      <td>0.997241</td>\n",
       "      <td>0.354247</td>\n",
       "      <td>0.009972</td>\n",
       "      <td>True</td>\n",
       "    </tr>\n",
       "  </tbody>\n",
       "</table>\n",
       "</div>"
      ],
      "text/plain": [
       "    A    B     Data1     Data2   Data1_c  Data1_d\n",
       "0  ha  one  0.754813  0.007378  0.007548     True\n",
       "1  hi  two  0.492588  0.794184  0.004926     True\n",
       "2  ho  one  0.711638  0.965155  0.007116     True\n",
       "3  ha  one  0.884553  0.793868  0.008846     True\n",
       "4  ho  two  0.997241  0.354247  0.009972     True"
      ]
     },
     "execution_count": 61,
     "metadata": {},
     "output_type": "execute_result"
    }
   ],
   "source": [
    "df4.head()"
   ]
  },
  {
   "cell_type": "code",
   "execution_count": 63,
   "id": "7d100bde",
   "metadata": {},
   "outputs": [
    {
     "name": "stdout",
     "output_type": "stream",
     "text": [
      "0    1\n",
      "1    2\n",
      "2    3\n",
      "3    4\n",
      "4    5\n",
      "5    6\n",
      "dtype: int64\n",
      "0         NaN\n",
      "1    1.000000\n",
      "2    0.500000\n",
      "3    0.333333\n",
      "4    0.250000\n",
      "5    0.200000\n",
      "dtype: float64\n",
      "0         NaN\n",
      "1         NaN\n",
      "2    2.000000\n",
      "3    1.000000\n",
      "4    0.666667\n",
      "5    0.500000\n",
      "dtype: float64\n"
     ]
    }
   ],
   "source": [
    "ser = pd.Series([1,2,3,4,5,6])\n",
    "print(ser)\n",
    "print(ser.pct_change())\n",
    "print(ser.pct_change(periods = 2))"
   ]
  },
  {
   "cell_type": "code",
   "execution_count": 66,
   "id": "51916561",
   "metadata": {},
   "outputs": [
    {
     "name": "stdout",
     "output_type": "stream",
     "text": [
      "0.0015322091844575836\n"
     ]
    }
   ],
   "source": [
    "ser1 = pd.Series(np.random.rand(100))\n",
    "ser2 = pd.Series(np.random.rand(100))\n",
    "print(ser2.cov(ser1))"
   ]
  },
  {
   "cell_type": "code",
   "execution_count": 65,
   "id": "f9e82292",
   "metadata": {},
   "outputs": [
    {
     "name": "stdout",
     "output_type": "stream",
     "text": [
      "          a         b         c\n",
      "a  0.085661 -0.003052  0.004571\n",
      "b -0.003052  0.083215 -0.002074\n",
      "c  0.004571 -0.002074  0.081278\n"
     ]
    }
   ],
   "source": [
    "df = pd.DataFrame(np.random.rand(1000,3),columns = ['a','b','c'])\n",
    "print(df.cov())"
   ]
  },
  {
   "cell_type": "code",
   "execution_count": 67,
   "id": "6091852d",
   "metadata": {},
   "outputs": [
    {
     "data": {
      "text/plain": [
       "-0.03615353300235081"
      ]
     },
     "execution_count": 67,
     "metadata": {},
     "output_type": "execute_result"
    }
   ],
   "source": [
    "df['a'].corr(df['b'])"
   ]
  },
  {
   "cell_type": "code",
   "execution_count": 69,
   "id": "f743d55c",
   "metadata": {},
   "outputs": [
    {
     "data": {
      "text/plain": [
       "-0.03567669567669568"
      ]
     },
     "execution_count": 69,
     "metadata": {},
     "output_type": "execute_result"
    }
   ],
   "source": [
    "df['a'].corr(df['b'],method = 'spearman')"
   ]
  },
  {
   "cell_type": "code",
   "execution_count": 70,
   "id": "31ef9bc1",
   "metadata": {},
   "outputs": [
    {
     "data": {
      "text/html": [
       "<div>\n",
       "<style scoped>\n",
       "    .dataframe tbody tr th:only-of-type {\n",
       "        vertical-align: middle;\n",
       "    }\n",
       "\n",
       "    .dataframe tbody tr th {\n",
       "        vertical-align: top;\n",
       "    }\n",
       "\n",
       "    .dataframe thead th {\n",
       "        text-align: right;\n",
       "    }\n",
       "</style>\n",
       "<table border=\"1\" class=\"dataframe\">\n",
       "  <thead>\n",
       "    <tr style=\"text-align: right;\">\n",
       "      <th></th>\n",
       "      <th>a</th>\n",
       "      <th>b</th>\n",
       "      <th>c</th>\n",
       "    </tr>\n",
       "  </thead>\n",
       "  <tbody>\n",
       "    <tr>\n",
       "      <th>a</th>\n",
       "      <td>1.000000</td>\n",
       "      <td>-0.036154</td>\n",
       "      <td>0.054785</td>\n",
       "    </tr>\n",
       "    <tr>\n",
       "      <th>b</th>\n",
       "      <td>-0.036154</td>\n",
       "      <td>1.000000</td>\n",
       "      <td>-0.025216</td>\n",
       "    </tr>\n",
       "    <tr>\n",
       "      <th>c</th>\n",
       "      <td>0.054785</td>\n",
       "      <td>-0.025216</td>\n",
       "      <td>1.000000</td>\n",
       "    </tr>\n",
       "  </tbody>\n",
       "</table>\n",
       "</div>"
      ],
      "text/plain": [
       "          a         b         c\n",
       "a  1.000000 -0.036154  0.054785\n",
       "b -0.036154  1.000000 -0.025216\n",
       "c  0.054785 -0.025216  1.000000"
      ]
     },
     "execution_count": 70,
     "metadata": {},
     "output_type": "execute_result"
    }
   ],
   "source": [
    "df.corr()"
   ]
  },
  {
   "cell_type": "code",
   "execution_count": 71,
   "id": "6b82482f",
   "metadata": {},
   "outputs": [
    {
     "data": {
      "text/plain": [
       "-0.024444444444444446"
      ]
     },
     "execution_count": 71,
     "metadata": {},
     "output_type": "execute_result"
    }
   ],
   "source": [
    "df['a'].corr(df['b'],method = 'kendall')"
   ]
  },
  {
   "cell_type": "code",
   "execution_count": 73,
   "id": "ef664a27",
   "metadata": {},
   "outputs": [
    {
     "name": "stdout",
     "output_type": "stream",
     "text": [
      "          a         b         c\n",
      "0       NaN       NaN       NaN\n",
      "1 -0.602010 -0.782365 -1.971695\n",
      "2       NaN       NaN       NaN\n",
      "3 -0.256344  0.434690  1.350636\n",
      "4       NaN       NaN       NaN\n",
      "5  0.478631  1.026562  0.103074\n",
      "          a         b         c\n",
      "a  1.000000  0.043998 -0.019341\n",
      "b  0.043998  1.000000  0.098679\n",
      "c -0.019341  0.098679  1.000000\n"
     ]
    }
   ],
   "source": [
    "df = pd.DataFrame(np.random.randn(500, 3),\n",
    "columns=['a', 'b', 'c'])\n",
    "df.iloc[::2] = np.nan\n",
    "print(df.head(6))\n",
    "print(df.corr())"
   ]
  },
  {
   "cell_type": "code",
   "execution_count": 76,
   "id": "667fe15c",
   "metadata": {},
   "outputs": [
    {
     "name": "stdout",
     "output_type": "stream",
     "text": [
      "one     -0.864001\n",
      "two     -0.934677\n",
      "three   -0.274750\n",
      "dtype: float64\n",
      "a    0.991415\n",
      "b   -0.912100\n",
      "c   -0.275125\n",
      "d         NaN\n",
      "dtype: float64\n"
     ]
    }
   ],
   "source": [
    "ind = ['a','b','c','d']\n",
    "col = ['one','two','three']\n",
    "df1 = pd.DataFrame(np.random.rand(4,3),index = ind, columns = col)\n",
    "df2 = pd.DataFrame(np.random.rand(3,3),index = ind[:3], columns = col)\n",
    "print(df1.corrwith(df2))\n",
    "print(df2.corrwith(df1,axis=1))\n",
    "\n",
    "'''\n",
    "트랜포스 조심해서 쓰기\n",
    "index 개수 조심하기\n",
    "'''"
   ]
  },
  {
   "cell_type": "code",
   "execution_count": 82,
   "id": "a69b93dc",
   "metadata": {},
   "outputs": [
    {
     "name": "stdout",
     "output_type": "stream",
     "text": [
      "a    1.043575\n",
      "b   -0.962269\n",
      "c    1.673721\n",
      "d   -0.140355\n",
      "e   -0.381959\n",
      "dtype: float64\n",
      "a    1.043575\n",
      "b   -0.962269\n",
      "c    1.673721\n",
      "d   -0.962269\n",
      "e   -0.381959\n",
      "dtype: float64\n",
      "a    4.0\n",
      "b    1.5\n",
      "c    5.0\n",
      "d    1.5\n",
      "e    3.0\n",
      "dtype: float64\n"
     ]
    },
    {
     "data": {
      "text/plain": [
       "'\\n가장 작은 것 부터 큰 것으로 순위 매기기\\n'"
      ]
     },
     "execution_count": 82,
     "metadata": {},
     "output_type": "execute_result"
    }
   ],
   "source": [
    "ser = pd.Series(np.random.randn(5),index = list('abcde'))\n",
    "print(ser)\n",
    "ser['d'] = ser['b']\n",
    "print(ser)\n",
    "print(ser.rank())\n",
    "'''\n",
    "가장 작은 것 부터 큰 것으로 순위 매기기\n",
    "'''"
   ]
  },
  {
   "cell_type": "code",
   "execution_count": 98,
   "id": "2475fa4b",
   "metadata": {},
   "outputs": [
    {
     "name": "stdout",
     "output_type": "stream",
     "text": [
      "2020-01-01   -0.575381\n",
      "2020-01-02    0.166741\n",
      "2020-01-03    1.453213\n",
      "2020-01-04    0.387366\n",
      "2020-01-05   -2.559047\n",
      "                ...   \n",
      "2022-09-22    1.803085\n",
      "2022-09-23   -0.584551\n",
      "2022-09-24   -0.753966\n",
      "2022-09-25    0.906289\n",
      "2022-09-26   -1.714790\n",
      "Freq: D, Length: 1000, dtype: float64\n"
     ]
    }
   ],
   "source": [
    "s = pd.Series(np.random.randn(1000),index = pd.date_range('1/1/2020',periods = 1000))\n",
    "print(s)"
   ]
  },
  {
   "cell_type": "code",
   "execution_count": 84,
   "id": "936b2a74",
   "metadata": {},
   "outputs": [
    {
     "name": "stdout",
     "output_type": "stream",
     "text": [
      "2020-01-01      0.500444\n",
      "2020-01-02      1.278190\n",
      "2020-01-03      2.249198\n",
      "2020-01-04      2.569513\n",
      "2020-01-05      3.421825\n",
      "                 ...    \n",
      "2022-09-22    503.031586\n",
      "2022-09-23    503.688532\n",
      "2022-09-24    503.982279\n",
      "2022-09-25    504.461626\n",
      "2022-09-26    504.558265\n",
      "Freq: D, Length: 1000, dtype: float64\n"
     ]
    }
   ],
   "source": [
    "print(s.cumsum())"
   ]
  },
  {
   "cell_type": "code",
   "execution_count": 87,
   "id": "3425ae98",
   "metadata": {},
   "outputs": [
    {
     "name": "stdout",
     "output_type": "stream",
     "text": [
      "Rolling [window=60,center=False,axis=0,method=single]\n",
      "<class 'pandas.core.window.rolling.Rolling'>\n"
     ]
    }
   ],
   "source": [
    "s1 = s.rolling (window = 60)\n",
    "print(s1)\n",
    "print(type(s1))"
   ]
  },
  {
   "cell_type": "code",
   "execution_count": 91,
   "id": "34507e95",
   "metadata": {
    "scrolled": true
   },
   "outputs": [
    {
     "data": {
      "image/png": "[encoded data removed]",
      "text/plain": [
       "<Figure size 640x480 with 1 Axes>"
      ]
     },
     "metadata": {},
     "output_type": "display_data"
    },
    {
     "data": {
      "image/png": "[encoded data removed]",
      "text/plain": [
       "<Figure size 640x480 with 1 Axes>"
      ]
     },
     "metadata": {},
     "output_type": "display_data"
    }
   ],
   "source": [
    "import matplotlib.pyplot as plt\n",
    "ser.plot(style='k')\n",
    "plt.show()\n",
    "s1.mean().plot(style='k-')\n",
    "plt.show()"
   ]
  },
  {
   "cell_type": "code",
   "execution_count": 97,
   "id": "3c620dae",
   "metadata": {},
   "outputs": [
    {
     "name": "stdout",
     "output_type": "stream",
     "text": [
      "                    A         B         C\n",
      "2020-01-01  -0.240539  1.792847  0.910854\n",
      "2020-01-02  -1.380595  2.697024  2.700367\n",
      "2020-01-03   0.322337  2.939706  1.984694\n",
      "2020-01-04  -1.005142  2.052530  1.771579\n",
      "2020-01-05  -0.379888  1.436610  1.160427\n",
      "...               ...       ...       ...\n",
      "2021-05-10 -19.015072  1.861122  3.121489\n",
      "2021-05-11 -19.726752  0.215436  4.233361\n",
      "2021-05-12 -22.634864 -1.115311  4.672581\n",
      "2021-05-13 -20.549616 -0.462857  4.763147\n",
      "2021-05-14 -20.327287 -0.835844  4.130248\n",
      "\n",
      "[500 rows x 3 columns]\n",
      "                   A    B         C\n",
      "2020-01-01       NaN  NaN       NaN\n",
      "2020-01-02       NaN  NaN       NaN\n",
      "2020-01-03  0.008899  1.0  0.819250\n",
      "2020-01-04  0.548065  1.0  0.458732\n",
      "2020-01-05  0.613811  1.0  0.930246\n",
      "2020-01-06 -0.979947  1.0  0.924746\n",
      "2020-01-07 -0.997720  1.0  0.912750\n",
      "2020-01-08 -0.205104  1.0  0.685430\n",
      "2020-01-09  0.997736  1.0  0.988501\n",
      "2020-01-10 -0.741794  1.0  0.314921\n",
      "2020-01-11 -0.784899  1.0 -0.719707\n",
      "2020-01-12  0.921083  1.0 -0.974832\n",
      "2020-01-13  0.018614  1.0  0.202205\n",
      "2020-01-14 -0.998689  1.0  0.960558\n",
      "2020-01-15  0.269311  1.0 -0.052987\n",
      "2020-01-16  0.733046  1.0 -0.022636\n",
      "2020-01-17  0.722766  1.0 -0.128299\n",
      "2020-01-18  0.975258  1.0  0.425097\n",
      "2020-01-19  0.964104  1.0 -0.393265\n",
      "2020-01-20  0.987503  1.0  0.248356\n"
     ]
    }
   ],
   "source": [
    "df = pd.DataFrame(np.random.randn(500,3), \n",
    "                  index = pd.date_range('1/1/2020',periods = 500),\n",
    "                  columns = ['A','B','C'] )\n",
    "dfc = df.cumsum()\n",
    "print(dfc)\n",
    "df1 = dfc[:20]\n",
    "print(df1.rolling(window=3).corr(df1['B']))"
   ]
  },
  {
   "cell_type": "code",
   "execution_count": null,
   "id": "98f4b3e9",
   "metadata": {},
   "outputs": [],
   "source": []
  }
 ],
 "metadata": {
  "kernelspec": {
   "display_name": "Python 3 (ipykernel)",
   "language": "python",
   "name": "python3"
  },
  "language_info": {
   "codemirror_mode": {
    "name": "ipython",
    "version": 3
   },
   "file_extension": ".py",
   "mimetype": "text/x-python",
   "name": "python",
   "nbconvert_exporter": "python",
   "pygments_lexer": "ipython3",
   "version": "3.9.13"
  }
 },
 "nbformat": 4,
 "nbformat_minor": 5
}
