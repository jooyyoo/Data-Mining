{
 "cells": [
  {
   "cell_type": "code",
   "execution_count": 11,
   "id": "ae0c20e8",
   "metadata": {},
   "outputs": [
    {
     "name": "stdout",
     "output_type": "stream",
     "text": [
      "모델 별 예측 값\n",
      "KNN :  [20]\n",
      "Logistic :  [20]\n",
      "QDA :  [20]\n",
      "최종 정확률\n",
      "knn:  0.98\n",
      "lr:  1.0\n",
      "dct:  1.0\n",
      "최고 정확률을 보이는 모델은 Decision Tree Classifier이다\n"
     ]
    },
    {
     "name": "stderr",
     "output_type": "stream",
     "text": [
      "C:\\Users\\USER\\anaconda3\\lib\\site-packages\\sklearn\\neighbors\\_classification.py:228: FutureWarning: Unlike other reduction functions (e.g. `skew`, `kurtosis`), the default behavior of `mode` typically preserves the axis it acts along. In SciPy 1.11.0, this behavior will change: the default value of `keepdims` will become False, the `axis` over which the statistic is taken will be eliminated, and the value None will no longer be accepted. Set `keepdims` to True or False to avoid this warning.\n",
      "  mode, _ = stats.mode(_y[neigh_ind, k], axis=1)\n",
      "C:\\Users\\USER\\anaconda3\\lib\\site-packages\\sklearn\\neighbors\\_classification.py:228: FutureWarning: Unlike other reduction functions (e.g. `skew`, `kurtosis`), the default behavior of `mode` typically preserves the axis it acts along. In SciPy 1.11.0, this behavior will change: the default value of `keepdims` will become False, the `axis` over which the statistic is taken will be eliminated, and the value None will no longer be accepted. Set `keepdims` to True or False to avoid this warning.\n",
      "  mode, _ = stats.mode(_y[neigh_ind, k], axis=1)\n"
     ]
    }
   ],
   "source": [
    "import pandas as pd\n",
    "import numpy as np\n",
    "import matplotlib.pyplot as plt\n",
    "import seaborn as sns\n",
    "from sklearn import tree\n",
    "from sklearn.model_selection import train_test_split\n",
    "from sklearn.neighbors import KNeighborsClassifier\n",
    "from sklearn.ensemble import RandomForestClassifier\n",
    "from sklearn.linear_model import LogisticRegression\n",
    "\n",
    "file = \"C:/Users/USER/Downloads/subway_1.csv\"\n",
    "df = pd.read_csv(file, encoding = 'cp949')\n",
    "\n",
    "\n",
    "X = df[['승차총승객수', '하차총승객수']].values\n",
    "y = df['노선명'].values\n",
    "\n",
    "print(\"모델 별 예측 값\")\n",
    "\n",
    "# KNN\n",
    "knn = KNeighborsClassifier(n_neighbors=8).fit(X, y)\n",
    "print(\"KNN : \" , knn.predict([[30000, 30000]]))\n",
    "\n",
    "# Logistic Regression\n",
    "lr = LogisticRegression(random_state=1, max_iter=500).fit(X, y)\n",
    "print(\"Logistic : \", lr.predict([[30000, 30000]]))\n",
    "\n",
    "# Decision Tree Classifier\n",
    "dct = tree.DecisionTreeClassifier()\n",
    "dct = dct.fit(X,y)\n",
    "print(\"QDA : \", dct.predict([[30000, 30000]]))\n",
    "\n",
    "knn_fin = round(knn.score(X,y),2)\n",
    "lr_fin = round(lr.score(X,y),2)\n",
    "dct_fin = round(dct.score(X,y),2)\n",
    "\n",
    "print(\"최종 정확률\")\n",
    "print(\"knn: \", knn_fin)\n",
    "print(\"lr: \", lr_fin)\n",
    "print(\"dct: \", dct_fin)\n",
    "\n",
    "print(\"최고 정확률을 보이는 모델은 Decision Tree Classifier이다\")"
   ]
  },
  {
   "cell_type": "code",
   "execution_count": null,
   "id": "c50556be",
   "metadata": {},
   "outputs": [],
   "source": []
  }
 ],
 "metadata": {
  "kernelspec": {
   "display_name": "Python 3 (ipykernel)",
   "language": "python",
   "name": "python3"
  },
  "language_info": {
   "codemirror_mode": {
    "name": "ipython",
    "version": 3
   },
   "file_extension": ".py",
   "mimetype": "text/x-python",
   "name": "python",
   "nbconvert_exporter": "python",
   "pygments_lexer": "ipython3",
   "version": "3.9.13"
  }
 },
 "nbformat": 4,
 "nbformat_minor": 5
}
