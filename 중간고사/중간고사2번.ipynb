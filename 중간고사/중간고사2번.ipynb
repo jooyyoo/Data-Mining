{
 "cells": [
  {
   "cell_type": "code",
   "execution_count": 10,
   "id": "b740da8e",
   "metadata": {},
   "outputs": [
    {
     "name": "stdout",
     "output_type": "stream",
     "text": [
      "[(22, 10,  6, 57, b'ulsan') (21, 10,  7, 56, b'jeonbuk')\n",
      " (10, 16, 12, 52, b'daegu') (11, 13, 14, 43, b'seoul')\n",
      " (11, 11, 16, 43, b'suwon')]\n",
      "[(76, 0.57894737, b'ulsan') (73, 0.55263156, b'jeonbuk')\n",
      " (46, 0.2631579 , b'daegu') (46, 0.28947368, b'seoul')\n",
      " (44, 0.28947368, b'suwon')]\n",
      "[('win', '<i4'), ('draw', '<i4'), ('lose', '<i4'), ('score', '<i4'), ('team', 'S10')]\n",
      "[('point', '<i4'), ('rate', '<f4'), ('team', 'S10')]\n"
     ]
    }
   ],
   "source": [
    "import numpy as np\n",
    "data = [(22, 10, 6, 57, \"ulsan\"),\n",
    "        (21,10,7,56,\"jeonbuk\"),\n",
    "        (10,16,12, 52, \"daegu\"),\n",
    "        (11,13,14,43,\"seoul\"),\n",
    "        (11,11,16,43,\"suwon\")]\n",
    "#<------------여기서부터 수정 가능------------------>\n",
    "\n",
    "a = np.array(data,dtype=[('win', 'i4'), ('draw', 'i4'),('lose', 'i4'),('score', 'i4'),('team', 'S10')])\n",
    "b_1 = [(a[i][0]*3+a[i][1]*1,a[i][0]/(a[i][0]+a[i][1]+a[i][2]),a[i][4]) for i in range(0,len(data))] \n",
    "b = np.array(b_1, dtype=[('point','i4'), ('rate', 'f4'), ('team', 'S10')])\n",
    " \n",
    "#<------------수정 가능 영역 끝------------------>\n",
    " \n",
    "print(a)\n",
    "print(b)\n",
    "print(a.dtype)\n",
    "print(b.dtype)"
   ]
  }
 ],
 "metadata": {
  "kernelspec": {
   "display_name": "Python 3 (ipykernel)",
   "language": "python",
   "name": "python3"
  },
  "language_info": {
   "codemirror_mode": {
    "name": "ipython",
    "version": 3
   },
   "file_extension": ".py",
   "mimetype": "text/x-python",
   "name": "python",
   "nbconvert_exporter": "python",
   "pygments_lexer": "ipython3",
   "version": "3.9.7"
  }
 },
 "nbformat": 4,
 "nbformat_minor": 5
}
