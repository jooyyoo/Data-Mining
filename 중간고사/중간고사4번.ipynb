{
 "cells": [
  {
   "cell_type": "code",
   "execution_count": 35,
   "id": "f214e98e",
   "metadata": {
    "collapsed": true
   },
   "outputs": [
    {
     "name": "stdout",
     "output_type": "stream",
     "text": [
      "<pandas>\n",
      "평균: 93.840, 분산: 3197.752, 표준편차: 56.549, 중위값: 89.500, 하위20%: 36.800, 하위80%: 153.400\n",
      "<numpy>\n",
      "평균: 93.840, 분산: 3165.774, 표준편차: 56.265, 중위값: 89.500, 하위20%: 36.800, 하위80%: 153.400\n"
     ]
    }
   ],
   "source": [
    "import pandas as pd \n",
    "import numpy as np\n",
    "num = [41, 195, 23, 111, 130, 120, 76, 117, 178, 113, 74, 186, 144, 92, 74, 15, 14, 36, 71, 171, 156, 108, 32, 143, 65, 35, 58, 54, 153, 21, 108, 67, 67, 9, 89, 112, 84, 77, 37, 137, 94, 18, 65, 155, 174, 54, 62, 190, 121, 84, 6, 194, 55, 43, 22, 121, 178, 49, 23, 169, 88, 113, 53, 110, 11, 15, 197, 103, 119, 67, 90, 135, 152, 128, 0, 90, 54, 174, 69, 162, 169, 84, 190, 94, 97, 77, 190, 158, 31, 17, 152, 12, 177, 35, 1, 117, 52, 185, 51, 95]\n",
    "df = pd.DataFrame(num)\n",
    "arr = np.array(num)\n",
    "print(\"<pandas>\")\n",
    "df_mean = df.mean()\n",
    "df_var = df.var()\n",
    "df_std = df.std()\n",
    "df_med = df.median()\n",
    "df_20 = df.quantile(q=0.2)\n",
    "df_80 = df.quantile(q=0.8)\n",
    "print(\"평균: %.3f, 분산: %.3f, 표준편차: %.3f, 중위값: %.3f, 하위20%%: %.3f, 하위80%%: %.3f\"%(df_mean,df_var,df_std,df_med,df_20,df_80))\n",
    "\n",
    "print(\"<numpy>\")\n",
    "arr_mean = np.mean(arr)\n",
    "arr_var = np.var(arr)\n",
    "arr_std = np.std(arr)\n",
    "arr_med = np.median(arr)\n",
    "arr_20 = np.percentile(arr,q=20)\n",
    "arr_80 = np.percentile(arr,q=80)\n",
    "print(\"평균: %.3f, 분산: %.3f, 표준편차: %.3f, 중위값: %.3f, 하위20%%: %.3f, 하위80%%: %.3f\"%(arr_mean,arr_var,arr_std,arr_med,arr_20,arr_80))"
   ]
  }
 ],
 "metadata": {
  "kernelspec": {
   "display_name": "Python 3 (ipykernel)",
   "language": "python",
   "name": "python3"
  },
  "language_info": {
   "codemirror_mode": {
    "name": "ipython",
    "version": 3
   },
   "file_extension": ".py",
   "mimetype": "text/x-python",
   "name": "python",
   "nbconvert_exporter": "python",
   "pygments_lexer": "ipython3",
   "version": "3.9.7"
  }
 },
 "nbformat": 4,
 "nbformat_minor": 5
}
