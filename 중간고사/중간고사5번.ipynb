{
 "cells": [
  {
   "cell_type": "code",
   "execution_count": 29,
   "id": "2ac78571",
   "metadata": {},
   "outputs": [
    {
     "name": "stdout",
     "output_type": "stream",
     "text": [
      "종로구의 실제 총합은 891로 총계값 890과 1만큼의 차이가 존재한다.\n",
      "성북구의 실제 총합은 1350로 총계값 1352과 2만큼의 차이가 존재한다.\n",
      "노원구의 실제 총합은 2031로 총계값 2033과 2만큼의 차이가 존재한다.\n",
      "양천구의 실제 총합은 3557로 총계값 3558과 1만큼의 차이가 존재한다.\n",
      "강서구의 실제 총합은 5162로 총계값 5169과 7만큼의 차이가 존재한다.\n",
      "동작구의 실제 총합은 1767로 총계값 1768과 1만큼의 차이가 존재한다.\n",
      "서초구의 실제 총합은 6392로 총계값 6405과 13만큼의 차이가 존재한다.\n",
      "송파구의 실제 총합은 3070로 총계값 3160과 90만큼의 차이가 존재한다.\n"
     ]
    }
   ],
   "source": [
    "import pandas as pd\n",
    "file = \"C:/Users/USER/Downloads/seoul_ems_test.csv\"\n",
    "df = pd.read_csv(file)\n",
    "df_1 = df[['2012','2013','2014','2015','2016','2017']]\n",
    "for i in range(0,len(df_1.index)):\n",
    "    sum_ = 0\n",
    "    for j in range(0,6):\n",
    "        sum_ += df_1.loc[i][j]\n",
    "    if sum_ != df[\"총계\"][i]:\n",
    "        print(\"{}의 실제 총합은 {}로 총계값 {}과 {}만큼의 차이가 존재한다.\".\n",
    "              format(df[\"자치구별(2)\"][i],sum_,df[\"총계\"][i],abs(sum_-df[\"총계\"][i])))"
   ]
  }
 ],
 "metadata": {
  "kernelspec": {
   "display_name": "Python 3 (ipykernel)",
   "language": "python",
   "name": "python3"
  },
  "language_info": {
   "codemirror_mode": {
    "name": "ipython",
    "version": 3
   },
   "file_extension": ".py",
   "mimetype": "text/x-python",
   "name": "python",
   "nbconvert_exporter": "python",
   "pygments_lexer": "ipython3",
   "version": "3.9.7"
  }
 },
 "nbformat": 4,
 "nbformat_minor": 5
}
