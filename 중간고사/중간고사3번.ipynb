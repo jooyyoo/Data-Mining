{
 "cells": [
  {
   "cell_type": "code",
   "execution_count": 2,
   "id": "c963c0e3",
   "metadata": {},
   "outputs": [
    {
     "name": "stdout",
     "output_type": "stream",
     "text": [
      "     0    2    4    6    8   10\n",
      "0   2.0  NaN  2.0  NaN  2.0 NaN\n",
      "2   NaN  NaN  2.0  NaN  2.0 NaN\n",
      "4   2.0  2.0  2.0  NaN  2.0 NaN\n",
      "6   NaN  NaN  NaN  NaN  2.0 NaN\n",
      "8   2.0  2.0  2.0  2.0  2.0 NaN\n",
      "10  NaN  NaN  NaN  NaN  NaN NaN\n"
     ]
    }
   ],
   "source": [
    "import pandas as pd\n",
    "import numpy as np\n",
    " \n",
    "df1_data = np.ones((5,6))\n",
    "df1 = pd.DataFrame(df1_data, index=list(range(0, 10, 2)), columns=list(range(0, 12, 2)))\n",
    "df2_data = np.ones((6,5))\n",
    "df2 = pd.DataFrame(df2_data, index=list(range(0, 12, 2)), columns=list(range(0, 10, 2)))\n",
    "df3 = df1+df2\n",
    "\n",
    "for i in range(2,8,4):\n",
    "    for j in range(0,i+1,2):\n",
    "        df3[i][j] = np.nan\n",
    "        df3[j][i] = np.nan\n",
    "print(df3)"
   ]
  },
  {
   "cell_type": "code",
   "execution_count": null,
   "id": "c18210fb",
   "metadata": {},
   "outputs": [],
   "source": []
  }
 ],
 "metadata": {
  "kernelspec": {
   "display_name": "Python 3 (ipykernel)",
   "language": "python",
   "name": "python3"
  },
  "language_info": {
   "codemirror_mode": {
    "name": "ipython",
    "version": 3
   },
   "file_extension": ".py",
   "mimetype": "text/x-python",
   "name": "python",
   "nbconvert_exporter": "python",
   "pygments_lexer": "ipython3",
   "version": "3.9.7"
  }
 },
 "nbformat": 4,
 "nbformat_minor": 5
}
