{
 "cells": [
  {
   "cell_type": "code",
   "execution_count": 19,
   "id": "61141fd5",
   "metadata": {},
   "outputs": [
    {
     "name": "stdout",
     "output_type": "stream",
     "text": [
      "   자치구별(2)  2013  2015  2017\n",
      "0      종로구   117   166   160\n",
      "1       중구    67   121   118\n",
      "2      용산구   209   208   311\n",
      "3      성동구   154   167   185\n",
      "4      광진구   195   624   482\n",
      "5     동대문구   221   245   346\n",
      "6      중랑구   352   516  1105\n",
      "7      성북구   178   213   309\n",
      "8      강북구   271   375   433\n",
      "9      도봉구   213   253   659\n",
      "10     노원구   318   338   385\n",
      "11     은평구   439   711   879\n",
      "12    서대문구   265   303   422\n",
      "13     마포구   328   296   610\n",
      "14     양천구   422   606   823\n",
      "15     강서구   536   718  1371\n",
      "16     구로구   348   400   959\n",
      "17     금천구   273   322   357\n",
      "18    영등포구   190   209   302\n",
      "19     동작구   244   311   361\n",
      "20     관악구   294   400   597\n",
      "21     서초구   749  1166  1198\n",
      "22     강남구   528   835   810\n",
      "23     송파구   451   532   701\n",
      "24     강동구   433   704     7\n"
     ]
    }
   ],
   "source": [
    "import pandas as pd\n",
    "file = \"C:/Users/USER/Downloads/seoul_ems.csv\"\n",
    "df = pd.read_csv(file)\n",
    "df = df.fillna(0)\n",
    "df = df[[\"자치구별(2)\",\"2013\",\"2015\",\"2017\"]]\n",
    "print(df)"
   ]
  }
 ],
 "metadata": {
  "kernelspec": {
   "display_name": "Python 3 (ipykernel)",
   "language": "python",
   "name": "python3"
  },
  "language_info": {
   "codemirror_mode": {
    "name": "ipython",
    "version": 3
   },
   "file_extension": ".py",
   "mimetype": "text/x-python",
   "name": "python",
   "nbconvert_exporter": "python",
   "pygments_lexer": "ipython3",
   "version": "3.9.7"
  }
 },
 "nbformat": 4,
 "nbformat_minor": 5
}
