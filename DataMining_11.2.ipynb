{
 "cells": [
  {
   "cell_type": "code",
   "execution_count": 23,
   "id": "36531b98",
   "metadata": {},
   "outputs": [
    {
     "name": "stdout",
     "output_type": "stream",
     "text": [
      "<class 'pandas.core.groupby.generic.DataFrameGroupBy'>\n"
     ]
    },
    {
     "data": {
      "text/plain": [
       "'GroupBy Object 속성'"
      ]
     },
     "execution_count": 23,
     "metadata": {},
     "output_type": "execute_result"
    }
   ],
   "source": [
    "print(type(grouped1))\n",
    "'''GroupBy Object 속성'''"
   ]
  },
  {
   "cell_type": "code",
   "execution_count": 24,
   "id": "ffbe8c9c",
   "metadata": {},
   "outputs": [
    {
     "data": {
      "text/plain": [
       "{'ha':     A    B     Data1     Data2\n",
       " 0  ha  one -0.331809 -0.580317\n",
       " 3  ha  one -0.261885  0.600920,\n",
       " 'hi':     A    B    Data1     Data2\n",
       " 1  hi  two  0.76655 -0.764195,\n",
       " 'ho':     A    B     Data1     Data2\n",
       " 2  ho  one -0.688334  0.370315\n",
       " 4  ho  two  0.353348 -0.059520}"
      ]
     },
     "execution_count": 24,
     "metadata": {},
     "output_type": "execute_result"
    }
   ],
   "source": [
    "gr_dict = dict(list(grouped1))\n",
    "gr_dict"
   ]
  },
  {
   "cell_type": "code",
   "execution_count": 25,
   "id": "49511c3b",
   "metadata": {},
   "outputs": [
    {
     "data": {
      "text/plain": [
       "{'ha': [0, 3], 'hi': [1], 'ho': [2, 4]}"
      ]
     },
     "execution_count": 25,
     "metadata": {},
     "output_type": "execute_result"
    }
   ],
   "source": [
    "grouped1.groups"
   ]
  },
  {
   "cell_type": "code",
   "execution_count": 26,
   "id": "d4ec665b",
   "metadata": {},
   "outputs": [
    {
     "data": {
      "text/html": [
       "<div>\n",
       "<style scoped>\n",
       "    .dataframe tbody tr th:only-of-type {\n",
       "        vertical-align: middle;\n",
       "    }\n",
       "\n",
       "    .dataframe tbody tr th {\n",
       "        vertical-align: top;\n",
       "    }\n",
       "\n",
       "    .dataframe thead th {\n",
       "        text-align: right;\n",
       "    }\n",
       "</style>\n",
       "<table border=\"1\" class=\"dataframe\">\n",
       "  <thead>\n",
       "    <tr style=\"text-align: right;\">\n",
       "      <th></th>\n",
       "      <th>A</th>\n",
       "      <th>B</th>\n",
       "      <th>Data1</th>\n",
       "      <th>Data2</th>\n",
       "    </tr>\n",
       "  </thead>\n",
       "  <tbody>\n",
       "    <tr>\n",
       "      <th>2</th>\n",
       "      <td>ho</td>\n",
       "      <td>one</td>\n",
       "      <td>-0.688334</td>\n",
       "      <td>0.370315</td>\n",
       "    </tr>\n",
       "    <tr>\n",
       "      <th>4</th>\n",
       "      <td>ho</td>\n",
       "      <td>two</td>\n",
       "      <td>0.353348</td>\n",
       "      <td>-0.059520</td>\n",
       "    </tr>\n",
       "  </tbody>\n",
       "</table>\n",
       "</div>"
      ],
      "text/plain": [
       "    A    B     Data1     Data2\n",
       "2  ho  one -0.688334  0.370315\n",
       "4  ho  two  0.353348 -0.059520"
      ]
     },
     "execution_count": 26,
     "metadata": {},
     "output_type": "execute_result"
    }
   ],
   "source": [
    "gr_dict['ho']"
   ]
  },
  {
   "cell_type": "code",
   "execution_count": 27,
   "id": "859b2b7a",
   "metadata": {},
   "outputs": [
    {
     "data": {
      "text/html": [
       "<div>\n",
       "<style scoped>\n",
       "    .dataframe tbody tr th:only-of-type {\n",
       "        vertical-align: middle;\n",
       "    }\n",
       "\n",
       "    .dataframe tbody tr th {\n",
       "        vertical-align: top;\n",
       "    }\n",
       "\n",
       "    .dataframe thead th {\n",
       "        text-align: right;\n",
       "    }\n",
       "</style>\n",
       "<table border=\"1\" class=\"dataframe\">\n",
       "  <thead>\n",
       "    <tr style=\"text-align: right;\">\n",
       "      <th></th>\n",
       "      <th>A</th>\n",
       "      <th>B</th>\n",
       "      <th>Data1</th>\n",
       "      <th>Data2</th>\n",
       "    </tr>\n",
       "  </thead>\n",
       "  <tbody>\n",
       "    <tr>\n",
       "      <th>2</th>\n",
       "      <td>ho</td>\n",
       "      <td>one</td>\n",
       "      <td>-0.688334</td>\n",
       "      <td>0.370315</td>\n",
       "    </tr>\n",
       "    <tr>\n",
       "      <th>4</th>\n",
       "      <td>ho</td>\n",
       "      <td>two</td>\n",
       "      <td>0.353348</td>\n",
       "      <td>-0.059520</td>\n",
       "    </tr>\n",
       "  </tbody>\n",
       "</table>\n",
       "</div>"
      ],
      "text/plain": [
       "    A    B     Data1     Data2\n",
       "2  ho  one -0.688334  0.370315\n",
       "4  ho  two  0.353348 -0.059520"
      ]
     },
     "execution_count": 27,
     "metadata": {},
     "output_type": "execute_result"
    }
   ],
   "source": [
    "grouped1.get_group('ho')"
   ]
  },
  {
   "cell_type": "code",
   "execution_count": 28,
   "id": "b1929130",
   "metadata": {},
   "outputs": [
    {
     "data": {
      "text/html": [
       "<div>\n",
       "<style scoped>\n",
       "    .dataframe tbody tr th:only-of-type {\n",
       "        vertical-align: middle;\n",
       "    }\n",
       "\n",
       "    .dataframe tbody tr th {\n",
       "        vertical-align: top;\n",
       "    }\n",
       "\n",
       "    .dataframe thead th {\n",
       "        text-align: right;\n",
       "    }\n",
       "</style>\n",
       "<table border=\"1\" class=\"dataframe\">\n",
       "  <thead>\n",
       "    <tr style=\"text-align: right;\">\n",
       "      <th></th>\n",
       "      <th>A</th>\n",
       "      <th>B</th>\n",
       "      <th>Data1</th>\n",
       "      <th>Data2</th>\n",
       "    </tr>\n",
       "  </thead>\n",
       "  <tbody>\n",
       "    <tr>\n",
       "      <th>0</th>\n",
       "      <td>ha</td>\n",
       "      <td>one</td>\n",
       "      <td>-0.331809</td>\n",
       "      <td>-0.580317</td>\n",
       "    </tr>\n",
       "    <tr>\n",
       "      <th>3</th>\n",
       "      <td>ha</td>\n",
       "      <td>one</td>\n",
       "      <td>-0.261885</td>\n",
       "      <td>0.600920</td>\n",
       "    </tr>\n",
       "  </tbody>\n",
       "</table>\n",
       "</div>"
      ],
      "text/plain": [
       "    A    B     Data1     Data2\n",
       "0  ha  one -0.331809 -0.580317\n",
       "3  ha  one -0.261885  0.600920"
      ]
     },
     "execution_count": 28,
     "metadata": {},
     "output_type": "execute_result"
    }
   ],
   "source": [
    "df.groupby(['A','B']).get_group(('ha','one'))"
   ]
  },
  {
   "cell_type": "code",
   "execution_count": 30,
   "id": "d4a2c95c",
   "metadata": {},
   "outputs": [
    {
     "data": {
      "text/html": [
       "<div>\n",
       "<style scoped>\n",
       "    .dataframe tbody tr th:only-of-type {\n",
       "        vertical-align: middle;\n",
       "    }\n",
       "\n",
       "    .dataframe tbody tr th {\n",
       "        vertical-align: top;\n",
       "    }\n",
       "\n",
       "    .dataframe thead th {\n",
       "        text-align: right;\n",
       "    }\n",
       "</style>\n",
       "<table border=\"1\" class=\"dataframe\">\n",
       "  <thead>\n",
       "    <tr style=\"text-align: right;\">\n",
       "      <th></th>\n",
       "      <th>A</th>\n",
       "      <th>B</th>\n",
       "      <th>Data1</th>\n",
       "      <th>Data2</th>\n",
       "    </tr>\n",
       "  </thead>\n",
       "  <tbody>\n",
       "    <tr>\n",
       "      <th>4</th>\n",
       "      <td>ho</td>\n",
       "      <td>two</td>\n",
       "      <td>0.353348</td>\n",
       "      <td>-0.05952</td>\n",
       "    </tr>\n",
       "  </tbody>\n",
       "</table>\n",
       "</div>"
      ],
      "text/plain": [
       "    A    B     Data1    Data2\n",
       "4  ho  two  0.353348 -0.05952"
      ]
     },
     "execution_count": 30,
     "metadata": {},
     "output_type": "execute_result"
    }
   ],
   "source": [
    "df.groupby(['A','B']).get_group(('ho','two'))\n",
    "#df.groupby(['A','B']).get_group(('ha','two')) 오류 남 A ha 이면서 B two 인게 없어서"
   ]
  },
  {
   "cell_type": "code",
   "execution_count": 31,
   "id": "d1153cd1",
   "metadata": {},
   "outputs": [
    {
     "data": {
      "text/html": [
       "<div>\n",
       "<style scoped>\n",
       "    .dataframe tbody tr th:only-of-type {\n",
       "        vertical-align: middle;\n",
       "    }\n",
       "\n",
       "    .dataframe tbody tr th {\n",
       "        vertical-align: top;\n",
       "    }\n",
       "\n",
       "    .dataframe thead th {\n",
       "        text-align: right;\n",
       "    }\n",
       "</style>\n",
       "<table border=\"1\" class=\"dataframe\">\n",
       "  <thead>\n",
       "    <tr style=\"text-align: right;\">\n",
       "      <th></th>\n",
       "      <th>Data1</th>\n",
       "      <th>Data2</th>\n",
       "    </tr>\n",
       "    <tr>\n",
       "      <th>A</th>\n",
       "      <th></th>\n",
       "      <th></th>\n",
       "    </tr>\n",
       "  </thead>\n",
       "  <tbody>\n",
       "    <tr>\n",
       "      <th>ha</th>\n",
       "      <td>-0.296847</td>\n",
       "      <td>0.010302</td>\n",
       "    </tr>\n",
       "    <tr>\n",
       "      <th>hi</th>\n",
       "      <td>0.766550</td>\n",
       "      <td>-0.764195</td>\n",
       "    </tr>\n",
       "    <tr>\n",
       "      <th>ho</th>\n",
       "      <td>-0.167493</td>\n",
       "      <td>0.155397</td>\n",
       "    </tr>\n",
       "  </tbody>\n",
       "</table>\n",
       "</div>"
      ],
      "text/plain": [
       "       Data1     Data2\n",
       "A                     \n",
       "ha -0.296847  0.010302\n",
       "hi  0.766550 -0.764195\n",
       "ho -0.167493  0.155397"
      ]
     },
     "execution_count": 31,
     "metadata": {},
     "output_type": "execute_result"
    }
   ],
   "source": [
    "grouped1.mean()"
   ]
  },
  {
   "cell_type": "code",
   "execution_count": 40,
   "id": "d2c05493",
   "metadata": {},
   "outputs": [
    {
     "data": {
      "text/plain": [
       "{'ha': [0, 3], 'hi': [1], 'ho': [2, 4]}"
      ]
     },
     "execution_count": 40,
     "metadata": {},
     "output_type": "execute_result"
    }
   ],
   "source": [
    "grouped2 = df['Data2'].groupby(df['A'])\n",
    "grouped2.groups"
   ]
  },
  {
   "cell_type": "code",
   "execution_count": 33,
   "id": "3f0d778e",
   "metadata": {},
   "outputs": [
    {
     "data": {
      "text/plain": [
       "A\n",
       "ha    0.010302\n",
       "hi   -0.764195\n",
       "ho    0.155397\n",
       "Name: Data2, dtype: float64"
      ]
     },
     "execution_count": 33,
     "metadata": {},
     "output_type": "execute_result"
    }
   ],
   "source": [
    "grouped2.mean()"
   ]
  },
  {
   "cell_type": "code",
   "execution_count": 39,
   "id": "25ceded7",
   "metadata": {},
   "outputs": [
    {
     "data": {
      "text/plain": [
       "{('ha', 'one'): [0, 3], ('hi', 'two'): [1], ('ho', 'one'): [2], ('ho', 'two'): [4]}"
      ]
     },
     "execution_count": 39,
     "metadata": {},
     "output_type": "execute_result"
    }
   ],
   "source": [
    "grouped3 = df['Data1'].groupby([df['A'],df['B']])\n",
    "grouped3.groups"
   ]
  },
  {
   "cell_type": "code",
   "execution_count": 41,
   "id": "85d2ff1a",
   "metadata": {},
   "outputs": [
    {
     "data": {
      "text/plain": [
       "<pandas.core.groupby.generic.SeriesGroupBy object at 0x00000253C09EEB20>"
      ]
     },
     "execution_count": 41,
     "metadata": {},
     "output_type": "execute_result"
    }
   ],
   "source": [
    "grouped3"
   ]
  },
  {
   "cell_type": "code",
   "execution_count": 42,
   "id": "abfbe467",
   "metadata": {},
   "outputs": [
    {
     "data": {
      "text/plain": [
       "A   B  \n",
       "ha  one   -0.296847\n",
       "hi  two    0.766550\n",
       "ho  one   -0.688334\n",
       "    two    0.353348\n",
       "Name: Data1, dtype: float64"
      ]
     },
     "execution_count": 42,
     "metadata": {},
     "output_type": "execute_result"
    }
   ],
   "source": [
    "grouped3.mean()"
   ]
  },
  {
   "cell_type": "code",
   "execution_count": 45,
   "id": "486b59aa",
   "metadata": {},
   "outputs": [
    {
     "data": {
      "text/plain": [
       "oil    1h    0.559949\n",
       "       2h   -0.688334\n",
       "water  1h   -0.331809\n",
       "       2h   -0.261885\n",
       "Name: Data1, dtype: float64"
      ]
     },
     "execution_count": 45,
     "metadata": {},
     "output_type": "execute_result"
    }
   ],
   "source": [
    "mat = np.array(['water','oil','oil','water','oil'])\n",
    "time = ['1h','1h','2h','2h','1h']\n",
    "\n",
    "df['Data1'].groupby([mat,time]).mean()"
   ]
  },
  {
   "cell_type": "code",
   "execution_count": 46,
   "id": "799e8661",
   "metadata": {},
   "outputs": [
    {
     "data": {
      "text/html": [
       "<div>\n",
       "<style scoped>\n",
       "    .dataframe tbody tr th:only-of-type {\n",
       "        vertical-align: middle;\n",
       "    }\n",
       "\n",
       "    .dataframe tbody tr th {\n",
       "        vertical-align: top;\n",
       "    }\n",
       "\n",
       "    .dataframe thead th {\n",
       "        text-align: right;\n",
       "    }\n",
       "</style>\n",
       "<table border=\"1\" class=\"dataframe\">\n",
       "  <thead>\n",
       "    <tr style=\"text-align: right;\">\n",
       "      <th></th>\n",
       "      <th>A</th>\n",
       "      <th>B</th>\n",
       "      <th>Data1</th>\n",
       "      <th>Data2</th>\n",
       "    </tr>\n",
       "  </thead>\n",
       "  <tbody>\n",
       "    <tr>\n",
       "      <th>0</th>\n",
       "      <td>ha</td>\n",
       "      <td>one</td>\n",
       "      <td>-0.331809</td>\n",
       "      <td>-0.580317</td>\n",
       "    </tr>\n",
       "    <tr>\n",
       "      <th>1</th>\n",
       "      <td>hi</td>\n",
       "      <td>two</td>\n",
       "      <td>0.766550</td>\n",
       "      <td>-0.764195</td>\n",
       "    </tr>\n",
       "    <tr>\n",
       "      <th>2</th>\n",
       "      <td>ho</td>\n",
       "      <td>one</td>\n",
       "      <td>-0.688334</td>\n",
       "      <td>0.370315</td>\n",
       "    </tr>\n",
       "    <tr>\n",
       "      <th>3</th>\n",
       "      <td>ha</td>\n",
       "      <td>one</td>\n",
       "      <td>-0.261885</td>\n",
       "      <td>0.600920</td>\n",
       "    </tr>\n",
       "    <tr>\n",
       "      <th>4</th>\n",
       "      <td>ho</td>\n",
       "      <td>two</td>\n",
       "      <td>0.353348</td>\n",
       "      <td>-0.059520</td>\n",
       "    </tr>\n",
       "  </tbody>\n",
       "</table>\n",
       "</div>"
      ],
      "text/plain": [
       "    A    B     Data1     Data2\n",
       "0  ha  one -0.331809 -0.580317\n",
       "1  hi  two  0.766550 -0.764195\n",
       "2  ho  one -0.688334  0.370315\n",
       "3  ha  one -0.261885  0.600920\n",
       "4  ho  two  0.353348 -0.059520"
      ]
     },
     "execution_count": 46,
     "metadata": {},
     "output_type": "execute_result"
    }
   ],
   "source": [
    "df"
   ]
  },
  {
   "cell_type": "code",
   "execution_count": 48,
   "id": "f09eb1da",
   "metadata": {},
   "outputs": [
    {
     "data": {
      "text/html": [
       "<div>\n",
       "<style scoped>\n",
       "    .dataframe tbody tr th:only-of-type {\n",
       "        vertical-align: middle;\n",
       "    }\n",
       "\n",
       "    .dataframe tbody tr th {\n",
       "        vertical-align: top;\n",
       "    }\n",
       "\n",
       "    .dataframe thead th {\n",
       "        text-align: right;\n",
       "    }\n",
       "</style>\n",
       "<table border=\"1\" class=\"dataframe\">\n",
       "  <thead>\n",
       "    <tr style=\"text-align: right;\">\n",
       "      <th></th>\n",
       "      <th>A</th>\n",
       "      <th>B</th>\n",
       "      <th>Data1</th>\n",
       "    </tr>\n",
       "  </thead>\n",
       "  <tbody>\n",
       "    <tr>\n",
       "      <th>0</th>\n",
       "      <td>ha</td>\n",
       "      <td>two</td>\n",
       "      <td>0.937458</td>\n",
       "    </tr>\n",
       "    <tr>\n",
       "      <th>1</th>\n",
       "      <td>hi</td>\n",
       "      <td>one</td>\n",
       "      <td>-0.289454</td>\n",
       "    </tr>\n",
       "    <tr>\n",
       "      <th>2</th>\n",
       "      <td>ha</td>\n",
       "      <td>two</td>\n",
       "      <td>0.861148</td>\n",
       "    </tr>\n",
       "  </tbody>\n",
       "</table>\n",
       "</div>"
      ],
      "text/plain": [
       "    A    B     Data1\n",
       "0  ha  two  0.937458\n",
       "1  hi  one -0.289454\n",
       "2  ha  two  0.861148"
      ]
     },
     "execution_count": 48,
     "metadata": {},
     "output_type": "execute_result"
    }
   ],
   "source": [
    "df2 = pd.DataFrame({'A':['ha','hi','ha'],\n",
    "                  'B':['two','one','two'],\n",
    "                  'Data1':np.random.randn(3)})\n",
    "df2"
   ]
  },
  {
   "cell_type": "code",
   "execution_count": 49,
   "id": "f44b9f80",
   "metadata": {},
   "outputs": [
    {
     "data": {
      "text/html": [
       "<div>\n",
       "<style scoped>\n",
       "    .dataframe tbody tr th:only-of-type {\n",
       "        vertical-align: middle;\n",
       "    }\n",
       "\n",
       "    .dataframe tbody tr th {\n",
       "        vertical-align: top;\n",
       "    }\n",
       "\n",
       "    .dataframe thead th {\n",
       "        text-align: right;\n",
       "    }\n",
       "</style>\n",
       "<table border=\"1\" class=\"dataframe\">\n",
       "  <thead>\n",
       "    <tr style=\"text-align: right;\">\n",
       "      <th></th>\n",
       "      <th>Data1</th>\n",
       "    </tr>\n",
       "    <tr>\n",
       "      <th>A</th>\n",
       "      <th></th>\n",
       "    </tr>\n",
       "  </thead>\n",
       "  <tbody>\n",
       "    <tr>\n",
       "      <th>ha</th>\n",
       "      <td>1.798606</td>\n",
       "    </tr>\n",
       "    <tr>\n",
       "      <th>hi</th>\n",
       "      <td>-0.289454</td>\n",
       "    </tr>\n",
       "  </tbody>\n",
       "</table>\n",
       "</div>"
      ],
      "text/plain": [
       "       Data1\n",
       "A           \n",
       "ha  1.798606\n",
       "hi -0.289454"
      ]
     },
     "execution_count": 49,
     "metadata": {},
     "output_type": "execute_result"
    }
   ],
   "source": [
    "df2.groupby(['A']).sum()"
   ]
  },
  {
   "cell_type": "code",
   "execution_count": 50,
   "id": "45d64e6d",
   "metadata": {},
   "outputs": [
    {
     "data": {
      "text/html": [
       "<div>\n",
       "<style scoped>\n",
       "    .dataframe tbody tr th:only-of-type {\n",
       "        vertical-align: middle;\n",
       "    }\n",
       "\n",
       "    .dataframe tbody tr th {\n",
       "        vertical-align: top;\n",
       "    }\n",
       "\n",
       "    .dataframe thead th {\n",
       "        text-align: right;\n",
       "    }\n",
       "</style>\n",
       "<table border=\"1\" class=\"dataframe\">\n",
       "  <thead>\n",
       "    <tr style=\"text-align: right;\">\n",
       "      <th></th>\n",
       "      <th>Data1</th>\n",
       "    </tr>\n",
       "    <tr>\n",
       "      <th>A</th>\n",
       "      <th></th>\n",
       "    </tr>\n",
       "  </thead>\n",
       "  <tbody>\n",
       "    <tr>\n",
       "      <th>ha</th>\n",
       "      <td>1.798606</td>\n",
       "    </tr>\n",
       "    <tr>\n",
       "      <th>hi</th>\n",
       "      <td>-0.289454</td>\n",
       "    </tr>\n",
       "  </tbody>\n",
       "</table>\n",
       "</div>"
      ],
      "text/plain": [
       "       Data1\n",
       "A           \n",
       "ha  1.798606\n",
       "hi -0.289454"
      ]
     },
     "execution_count": 50,
     "metadata": {},
     "output_type": "execute_result"
    }
   ],
   "source": [
    "df2.groupby('A',sort=False).sum()"
   ]
  },
  {
   "cell_type": "code",
   "execution_count": 51,
   "id": "1dc5dcc3",
   "metadata": {},
   "outputs": [
    {
     "data": {
      "text/plain": [
       "1st  2nd\n",
       "ha   one    0.734117\n",
       "     two    0.981335\n",
       "hi   one   -0.830060\n",
       "     one    0.533780\n",
       "ho   two   -0.677024\n",
       "     two   -1.485719\n",
       "dtype: float64"
      ]
     },
     "execution_count": 51,
     "metadata": {},
     "output_type": "execute_result"
    }
   ],
   "source": [
    "arr = [['ha','ha','hi','hi','ho','ho'],['one','two','one','one','two','two']]\n",
    "ind = pd.MultiIndex.from_arrays(arr,names = ['1st','2nd'])\n",
    "ser = pd.Series(np.random.randn(6),index=ind)\n",
    "ser"
   ]
  },
  {
   "cell_type": "code",
   "execution_count": 54,
   "id": "783aa35b",
   "metadata": {},
   "outputs": [
    {
     "data": {
      "text/plain": [
       "2nd\n",
       "one    0.437837\n",
       "two   -1.181408\n",
       "dtype: float64"
      ]
     },
     "execution_count": 54,
     "metadata": {},
     "output_type": "execute_result"
    }
   ],
   "source": [
    "ser.index\n",
    "grouped = ser.groupby(level=1)\n",
    "grouped.sum()"
   ]
  },
  {
   "cell_type": "code",
   "execution_count": 53,
   "id": "693091f4",
   "metadata": {},
   "outputs": [
    {
     "data": {
      "text/plain": [
       "2nd\n",
       "one    0.437837\n",
       "two   -1.181408\n",
       "dtype: float64"
      ]
     },
     "execution_count": 53,
     "metadata": {},
     "output_type": "execute_result"
    }
   ],
   "source": [
    "ser.groupby(level='2nd').sum()"
   ]
  },
  {
   "cell_type": "code",
   "execution_count": 21,
   "id": "8cddb453",
   "metadata": {},
   "outputs": [
    {
     "data": {
      "text/html": [
       "<div>\n",
       "<style scoped>\n",
       "    .dataframe tbody tr th:only-of-type {\n",
       "        vertical-align: middle;\n",
       "    }\n",
       "\n",
       "    .dataframe tbody tr th {\n",
       "        vertical-align: top;\n",
       "    }\n",
       "\n",
       "    .dataframe thead th {\n",
       "        text-align: right;\n",
       "    }\n",
       "</style>\n",
       "<table border=\"1\" class=\"dataframe\">\n",
       "  <thead>\n",
       "    <tr style=\"text-align: right;\">\n",
       "      <th></th>\n",
       "      <th>A</th>\n",
       "      <th>B</th>\n",
       "      <th>Data1</th>\n",
       "      <th>Data2</th>\n",
       "    </tr>\n",
       "  </thead>\n",
       "  <tbody>\n",
       "    <tr>\n",
       "      <th>0</th>\n",
       "      <td>ha</td>\n",
       "      <td>one</td>\n",
       "      <td>-0.331809</td>\n",
       "      <td>-0.580317</td>\n",
       "    </tr>\n",
       "    <tr>\n",
       "      <th>1</th>\n",
       "      <td>hi</td>\n",
       "      <td>two</td>\n",
       "      <td>0.766550</td>\n",
       "      <td>-0.764195</td>\n",
       "    </tr>\n",
       "    <tr>\n",
       "      <th>2</th>\n",
       "      <td>ho</td>\n",
       "      <td>one</td>\n",
       "      <td>-0.688334</td>\n",
       "      <td>0.370315</td>\n",
       "    </tr>\n",
       "    <tr>\n",
       "      <th>3</th>\n",
       "      <td>ha</td>\n",
       "      <td>one</td>\n",
       "      <td>-0.261885</td>\n",
       "      <td>0.600920</td>\n",
       "    </tr>\n",
       "    <tr>\n",
       "      <th>4</th>\n",
       "      <td>ho</td>\n",
       "      <td>two</td>\n",
       "      <td>0.353348</td>\n",
       "      <td>-0.059520</td>\n",
       "    </tr>\n",
       "  </tbody>\n",
       "</table>\n",
       "</div>"
      ],
      "text/plain": [
       "    A    B     Data1     Data2\n",
       "0  ha  one -0.331809 -0.580317\n",
       "1  hi  two  0.766550 -0.764195\n",
       "2  ho  one -0.688334  0.370315\n",
       "3  ha  one -0.261885  0.600920\n",
       "4  ho  two  0.353348 -0.059520"
      ]
     },
     "execution_count": 21,
     "metadata": {},
     "output_type": "execute_result"
    }
   ],
   "source": [
    "import pandas as pd\n",
    "import numpy as np\n",
    "df = pd.DataFrame({'A':['ha','hi','ho','ha','ho'],\n",
    "                  'B':['one','two','one','one','two'],\n",
    "                  'Data1':np.random.randn(5),\n",
    "                  'Data2':np.random.randn(5)})\n",
    "df"
   ]
  },
  {
   "cell_type": "code",
   "execution_count": 22,
   "id": "a8a59637",
   "metadata": {},
   "outputs": [
    {
     "data": {
      "text/plain": [
       "<pandas.core.groupby.generic.DataFrameGroupBy object at 0x00000253C097D340>"
      ]
     },
     "execution_count": 22,
     "metadata": {},
     "output_type": "execute_result"
    }
   ],
   "source": [
    "grouped1 = df.groupby('A')\n",
    "grouped1"
   ]
  },
  {
   "cell_type": "code",
   "execution_count": 59,
   "id": "bd88531d",
   "metadata": {},
   "outputs": [
    {
     "name": "stdout",
     "output_type": "stream",
     "text": [
      "name: \n",
      "ha\n",
      "group: \n",
      "    A    B     Data1     Data2\n",
      "0  ha  one -0.331809 -0.580317\n",
      "3  ha  one -0.261885  0.600920\n",
      "name: \n",
      "hi\n",
      "group: \n",
      "    A    B    Data1     Data2\n",
      "1  hi  two  0.76655 -0.764195\n",
      "name: \n",
      "ho\n",
      "group: \n",
      "    A    B     Data1     Data2\n",
      "2  ho  one -0.688334  0.370315\n",
      "4  ho  two  0.353348 -0.059520\n"
     ]
    }
   ],
   "source": [
    "grouped1 = df.groupby('A')\n",
    "for name,group in grouped1:\n",
    "    print(\"name: \")\n",
    "    print(name)\n",
    "    print(\"group: \")\n",
    "    print(group)"
   ]
  },
  {
   "cell_type": "code",
   "execution_count": 61,
   "id": "ca1eb1a1",
   "metadata": {},
   "outputs": [
    {
     "name": "stdout",
     "output_type": "stream",
     "text": [
      "('ha', 'one')\n",
      "    A    B     Data1     Data2\n",
      "0  ha  one -0.331809 -0.580317\n",
      "3  ha  one -0.261885  0.600920\n",
      "('hi', 'two')\n",
      "    A    B    Data1     Data2\n",
      "1  hi  two  0.76655 -0.764195\n",
      "('ho', 'one')\n",
      "    A    B     Data1     Data2\n",
      "2  ho  one -0.688334  0.370315\n",
      "('ho', 'two')\n",
      "    A    B     Data1    Data2\n",
      "4  ho  two  0.353348 -0.05952\n"
     ]
    }
   ],
   "source": [
    "for (n1,n2),group in df.groupby(['A','B']):\n",
    "    print((n1,n2))\n",
    "    print(group)"
   ]
  },
  {
   "cell_type": "code",
   "execution_count": 62,
   "id": "ab087ec5",
   "metadata": {},
   "outputs": [
    {
     "data": {
      "text/html": [
       "<div>\n",
       "<style scoped>\n",
       "    .dataframe tbody tr th:only-of-type {\n",
       "        vertical-align: middle;\n",
       "    }\n",
       "\n",
       "    .dataframe tbody tr th {\n",
       "        vertical-align: top;\n",
       "    }\n",
       "\n",
       "    .dataframe thead th {\n",
       "        text-align: right;\n",
       "    }\n",
       "</style>\n",
       "<table border=\"1\" class=\"dataframe\">\n",
       "  <thead>\n",
       "    <tr style=\"text-align: right;\">\n",
       "      <th></th>\n",
       "      <th>Data1</th>\n",
       "      <th>Data2</th>\n",
       "    </tr>\n",
       "    <tr>\n",
       "      <th>A</th>\n",
       "      <th></th>\n",
       "      <th></th>\n",
       "    </tr>\n",
       "  </thead>\n",
       "  <tbody>\n",
       "    <tr>\n",
       "      <th>ha</th>\n",
       "      <td>-0.593695</td>\n",
       "      <td>0.020604</td>\n",
       "    </tr>\n",
       "    <tr>\n",
       "      <th>hi</th>\n",
       "      <td>0.766550</td>\n",
       "      <td>-0.764195</td>\n",
       "    </tr>\n",
       "    <tr>\n",
       "      <th>ho</th>\n",
       "      <td>-0.334986</td>\n",
       "      <td>0.310795</td>\n",
       "    </tr>\n",
       "  </tbody>\n",
       "</table>\n",
       "</div>"
      ],
      "text/plain": [
       "       Data1     Data2\n",
       "A                     \n",
       "ha -0.593695  0.020604\n",
       "hi  0.766550 -0.764195\n",
       "ho -0.334986  0.310795"
      ]
     },
     "execution_count": 62,
     "metadata": {},
     "output_type": "execute_result"
    }
   ],
   "source": [
    "grouped1 = df.groupby('A')\n",
    "grouped1.agg(np.sum)"
   ]
  },
  {
   "cell_type": "code",
   "execution_count": 63,
   "id": "7db021cb",
   "metadata": {},
   "outputs": [
    {
     "data": {
      "text/html": [
       "<div>\n",
       "<style scoped>\n",
       "    .dataframe tbody tr th:only-of-type {\n",
       "        vertical-align: middle;\n",
       "    }\n",
       "\n",
       "    .dataframe tbody tr th {\n",
       "        vertical-align: top;\n",
       "    }\n",
       "\n",
       "    .dataframe thead th {\n",
       "        text-align: right;\n",
       "    }\n",
       "</style>\n",
       "<table border=\"1\" class=\"dataframe\">\n",
       "  <thead>\n",
       "    <tr style=\"text-align: right;\">\n",
       "      <th></th>\n",
       "      <th></th>\n",
       "      <th>Data1</th>\n",
       "      <th>Data2</th>\n",
       "    </tr>\n",
       "    <tr>\n",
       "      <th>A</th>\n",
       "      <th>B</th>\n",
       "      <th></th>\n",
       "      <th></th>\n",
       "    </tr>\n",
       "  </thead>\n",
       "  <tbody>\n",
       "    <tr>\n",
       "      <th>ha</th>\n",
       "      <th>one</th>\n",
       "      <td>-0.593695</td>\n",
       "      <td>0.020604</td>\n",
       "    </tr>\n",
       "    <tr>\n",
       "      <th>hi</th>\n",
       "      <th>two</th>\n",
       "      <td>0.766550</td>\n",
       "      <td>-0.764195</td>\n",
       "    </tr>\n",
       "    <tr>\n",
       "      <th rowspan=\"2\" valign=\"top\">ho</th>\n",
       "      <th>one</th>\n",
       "      <td>-0.688334</td>\n",
       "      <td>0.370315</td>\n",
       "    </tr>\n",
       "    <tr>\n",
       "      <th>two</th>\n",
       "      <td>0.353348</td>\n",
       "      <td>-0.059520</td>\n",
       "    </tr>\n",
       "  </tbody>\n",
       "</table>\n",
       "</div>"
      ],
      "text/plain": [
       "           Data1     Data2\n",
       "A  B                      \n",
       "ha one -0.593695  0.020604\n",
       "hi two  0.766550 -0.764195\n",
       "ho one -0.688334  0.370315\n",
       "   two  0.353348 -0.059520"
      ]
     },
     "execution_count": 63,
     "metadata": {},
     "output_type": "execute_result"
    }
   ],
   "source": [
    "grouped2 = df.groupby(['A','B'])\n",
    "grouped2.agg('sum')"
   ]
  },
  {
   "cell_type": "code",
   "execution_count": 65,
   "id": "0f6696f5",
   "metadata": {},
   "outputs": [
    {
     "data": {
      "text/html": [
       "<div>\n",
       "<style scoped>\n",
       "    .dataframe tbody tr th:only-of-type {\n",
       "        vertical-align: middle;\n",
       "    }\n",
       "\n",
       "    .dataframe tbody tr th {\n",
       "        vertical-align: top;\n",
       "    }\n",
       "\n",
       "    .dataframe thead th {\n",
       "        text-align: right;\n",
       "    }\n",
       "</style>\n",
       "<table border=\"1\" class=\"dataframe\">\n",
       "  <thead>\n",
       "    <tr style=\"text-align: right;\">\n",
       "      <th></th>\n",
       "      <th>A</th>\n",
       "      <th>B</th>\n",
       "      <th>Data1</th>\n",
       "      <th>Data2</th>\n",
       "    </tr>\n",
       "  </thead>\n",
       "  <tbody>\n",
       "    <tr>\n",
       "      <th>0</th>\n",
       "      <td>ha</td>\n",
       "      <td>one</td>\n",
       "      <td>-0.593695</td>\n",
       "      <td>0.020604</td>\n",
       "    </tr>\n",
       "    <tr>\n",
       "      <th>1</th>\n",
       "      <td>hi</td>\n",
       "      <td>two</td>\n",
       "      <td>0.766550</td>\n",
       "      <td>-0.764195</td>\n",
       "    </tr>\n",
       "    <tr>\n",
       "      <th>2</th>\n",
       "      <td>ho</td>\n",
       "      <td>one</td>\n",
       "      <td>-0.688334</td>\n",
       "      <td>0.370315</td>\n",
       "    </tr>\n",
       "    <tr>\n",
       "      <th>3</th>\n",
       "      <td>ho</td>\n",
       "      <td>two</td>\n",
       "      <td>0.353348</td>\n",
       "      <td>-0.059520</td>\n",
       "    </tr>\n",
       "  </tbody>\n",
       "</table>\n",
       "</div>"
      ],
      "text/plain": [
       "    A    B     Data1     Data2\n",
       "0  ha  one -0.593695  0.020604\n",
       "1  hi  two  0.766550 -0.764195\n",
       "2  ho  one -0.688334  0.370315\n",
       "3  ho  two  0.353348 -0.059520"
      ]
     },
     "execution_count": 65,
     "metadata": {},
     "output_type": "execute_result"
    }
   ],
   "source": [
    "grouped3 = df.groupby(['A','B'],as_index=False)\n",
    "grouped3.aggregate(np.sum)"
   ]
  },
  {
   "cell_type": "code",
   "execution_count": 66,
   "id": "123b37e6",
   "metadata": {},
   "outputs": [
    {
     "data": {
      "text/html": [
       "<div>\n",
       "<style scoped>\n",
       "    .dataframe tbody tr th:only-of-type {\n",
       "        vertical-align: middle;\n",
       "    }\n",
       "\n",
       "    .dataframe tbody tr th {\n",
       "        vertical-align: top;\n",
       "    }\n",
       "\n",
       "    .dataframe thead th {\n",
       "        text-align: right;\n",
       "    }\n",
       "</style>\n",
       "<table border=\"1\" class=\"dataframe\">\n",
       "  <thead>\n",
       "    <tr style=\"text-align: right;\">\n",
       "      <th></th>\n",
       "      <th>A</th>\n",
       "      <th>Data1</th>\n",
       "      <th>Data2</th>\n",
       "    </tr>\n",
       "  </thead>\n",
       "  <tbody>\n",
       "    <tr>\n",
       "      <th>0</th>\n",
       "      <td>ha</td>\n",
       "      <td>-0.593695</td>\n",
       "      <td>0.020604</td>\n",
       "    </tr>\n",
       "    <tr>\n",
       "      <th>1</th>\n",
       "      <td>hi</td>\n",
       "      <td>0.766550</td>\n",
       "      <td>-0.764195</td>\n",
       "    </tr>\n",
       "    <tr>\n",
       "      <th>2</th>\n",
       "      <td>ho</td>\n",
       "      <td>-0.334986</td>\n",
       "      <td>0.310795</td>\n",
       "    </tr>\n",
       "  </tbody>\n",
       "</table>\n",
       "</div>"
      ],
      "text/plain": [
       "    A     Data1     Data2\n",
       "0  ha -0.593695  0.020604\n",
       "1  hi  0.766550 -0.764195\n",
       "2  ho -0.334986  0.310795"
      ]
     },
     "execution_count": 66,
     "metadata": {},
     "output_type": "execute_result"
    }
   ],
   "source": [
    "df.groupby('A',as_index=False).sum()"
   ]
  },
  {
   "cell_type": "code",
   "execution_count": 67,
   "id": "6f5f1561",
   "metadata": {},
   "outputs": [
    {
     "data": {
      "text/plain": [
       "A   B  \n",
       "ha  one    2\n",
       "hi  two    1\n",
       "ho  one    1\n",
       "    two    1\n",
       "dtype: int64"
      ]
     },
     "execution_count": 67,
     "metadata": {},
     "output_type": "execute_result"
    }
   ],
   "source": [
    "grouped2.size()"
   ]
  },
  {
   "cell_type": "code",
   "execution_count": 68,
   "id": "adeb0a63",
   "metadata": {},
   "outputs": [
    {
     "data": {
      "text/html": [
       "<div>\n",
       "<style scoped>\n",
       "    .dataframe tbody tr th:only-of-type {\n",
       "        vertical-align: middle;\n",
       "    }\n",
       "\n",
       "    .dataframe tbody tr th {\n",
       "        vertical-align: top;\n",
       "    }\n",
       "\n",
       "    .dataframe thead th {\n",
       "        text-align: right;\n",
       "    }\n",
       "</style>\n",
       "<table border=\"1\" class=\"dataframe\">\n",
       "  <thead>\n",
       "    <tr style=\"text-align: right;\">\n",
       "      <th></th>\n",
       "      <th>sum</th>\n",
       "      <th>mean</th>\n",
       "      <th>std</th>\n",
       "    </tr>\n",
       "    <tr>\n",
       "      <th>A</th>\n",
       "      <th></th>\n",
       "      <th></th>\n",
       "      <th></th>\n",
       "    </tr>\n",
       "  </thead>\n",
       "  <tbody>\n",
       "    <tr>\n",
       "      <th>ha</th>\n",
       "      <td>-0.593695</td>\n",
       "      <td>-0.296847</td>\n",
       "      <td>0.049444</td>\n",
       "    </tr>\n",
       "    <tr>\n",
       "      <th>hi</th>\n",
       "      <td>0.766550</td>\n",
       "      <td>0.766550</td>\n",
       "      <td>NaN</td>\n",
       "    </tr>\n",
       "    <tr>\n",
       "      <th>ho</th>\n",
       "      <td>-0.334986</td>\n",
       "      <td>-0.167493</td>\n",
       "      <td>0.736581</td>\n",
       "    </tr>\n",
       "  </tbody>\n",
       "</table>\n",
       "</div>"
      ],
      "text/plain": [
       "         sum      mean       std\n",
       "A                               \n",
       "ha -0.593695 -0.296847  0.049444\n",
       "hi  0.766550  0.766550       NaN\n",
       "ho -0.334986 -0.167493  0.736581"
      ]
     },
     "execution_count": 68,
     "metadata": {},
     "output_type": "execute_result"
    }
   ],
   "source": [
    "grouped = df.groupby('A')\n",
    "grouped['Data1'].agg([np.sum, np.mean, np.std])"
   ]
  },
  {
   "cell_type": "code",
   "execution_count": 69,
   "id": "65dbe4ae",
   "metadata": {},
   "outputs": [
    {
     "name": "stderr",
     "output_type": "stream",
     "text": [
      "C:\\Users\\USER\\AppData\\Local\\Temp\\ipykernel_9080\\304372742.py:1: FutureWarning: ['B'] did not aggregate successfully. If any error is raised this will raise in a future version of pandas. Drop these columns/ops to avoid this warning.\n",
      "  grouped.agg([np.sum,np.mean])\n"
     ]
    },
    {
     "data": {
      "text/html": [
       "<div>\n",
       "<style scoped>\n",
       "    .dataframe tbody tr th:only-of-type {\n",
       "        vertical-align: middle;\n",
       "    }\n",
       "\n",
       "    .dataframe tbody tr th {\n",
       "        vertical-align: top;\n",
       "    }\n",
       "\n",
       "    .dataframe thead tr th {\n",
       "        text-align: left;\n",
       "    }\n",
       "\n",
       "    .dataframe thead tr:last-of-type th {\n",
       "        text-align: right;\n",
       "    }\n",
       "</style>\n",
       "<table border=\"1\" class=\"dataframe\">\n",
       "  <thead>\n",
       "    <tr>\n",
       "      <th></th>\n",
       "      <th colspan=\"2\" halign=\"left\">Data1</th>\n",
       "      <th colspan=\"2\" halign=\"left\">Data2</th>\n",
       "    </tr>\n",
       "    <tr>\n",
       "      <th></th>\n",
       "      <th>sum</th>\n",
       "      <th>mean</th>\n",
       "      <th>sum</th>\n",
       "      <th>mean</th>\n",
       "    </tr>\n",
       "    <tr>\n",
       "      <th>A</th>\n",
       "      <th></th>\n",
       "      <th></th>\n",
       "      <th></th>\n",
       "      <th></th>\n",
       "    </tr>\n",
       "  </thead>\n",
       "  <tbody>\n",
       "    <tr>\n",
       "      <th>ha</th>\n",
       "      <td>-0.593695</td>\n",
       "      <td>-0.296847</td>\n",
       "      <td>0.020604</td>\n",
       "      <td>0.010302</td>\n",
       "    </tr>\n",
       "    <tr>\n",
       "      <th>hi</th>\n",
       "      <td>0.766550</td>\n",
       "      <td>0.766550</td>\n",
       "      <td>-0.764195</td>\n",
       "      <td>-0.764195</td>\n",
       "    </tr>\n",
       "    <tr>\n",
       "      <th>ho</th>\n",
       "      <td>-0.334986</td>\n",
       "      <td>-0.167493</td>\n",
       "      <td>0.310795</td>\n",
       "      <td>0.155397</td>\n",
       "    </tr>\n",
       "  </tbody>\n",
       "</table>\n",
       "</div>"
      ],
      "text/plain": [
       "       Data1               Data2          \n",
       "         sum      mean       sum      mean\n",
       "A                                         \n",
       "ha -0.593695 -0.296847  0.020604  0.010302\n",
       "hi  0.766550  0.766550 -0.764195 -0.764195\n",
       "ho -0.334986 -0.167493  0.310795  0.155397"
      ]
     },
     "execution_count": 69,
     "metadata": {},
     "output_type": "execute_result"
    }
   ],
   "source": [
    "grouped.agg([np.sum,np.mean])"
   ]
  },
  {
   "cell_type": "code",
   "execution_count": 71,
   "id": "434bf649",
   "metadata": {},
   "outputs": [
    {
     "name": "stderr",
     "output_type": "stream",
     "text": [
      "C:\\Users\\USER\\AppData\\Local\\Temp\\ipykernel_9080\\4217890663.py:1: FutureWarning: ['B'] did not aggregate successfully. If any error is raised this will raise in a future version of pandas. Drop these columns/ops to avoid this warning.\n",
      "  grouped.agg([np.sum, np.mean, np.std]).rename(columns={'sum':'합계','mean':'평균'})\n"
     ]
    },
    {
     "data": {
      "text/html": [
       "<div>\n",
       "<style scoped>\n",
       "    .dataframe tbody tr th:only-of-type {\n",
       "        vertical-align: middle;\n",
       "    }\n",
       "\n",
       "    .dataframe tbody tr th {\n",
       "        vertical-align: top;\n",
       "    }\n",
       "\n",
       "    .dataframe thead tr th {\n",
       "        text-align: left;\n",
       "    }\n",
       "\n",
       "    .dataframe thead tr:last-of-type th {\n",
       "        text-align: right;\n",
       "    }\n",
       "</style>\n",
       "<table border=\"1\" class=\"dataframe\">\n",
       "  <thead>\n",
       "    <tr>\n",
       "      <th></th>\n",
       "      <th colspan=\"3\" halign=\"left\">Data1</th>\n",
       "      <th colspan=\"3\" halign=\"left\">Data2</th>\n",
       "    </tr>\n",
       "    <tr>\n",
       "      <th></th>\n",
       "      <th>합계</th>\n",
       "      <th>평균</th>\n",
       "      <th>std</th>\n",
       "      <th>합계</th>\n",
       "      <th>평균</th>\n",
       "      <th>std</th>\n",
       "    </tr>\n",
       "    <tr>\n",
       "      <th>A</th>\n",
       "      <th></th>\n",
       "      <th></th>\n",
       "      <th></th>\n",
       "      <th></th>\n",
       "      <th></th>\n",
       "      <th></th>\n",
       "    </tr>\n",
       "  </thead>\n",
       "  <tbody>\n",
       "    <tr>\n",
       "      <th>ha</th>\n",
       "      <td>-0.593695</td>\n",
       "      <td>-0.296847</td>\n",
       "      <td>0.049444</td>\n",
       "      <td>0.020604</td>\n",
       "      <td>0.010302</td>\n",
       "      <td>0.835260</td>\n",
       "    </tr>\n",
       "    <tr>\n",
       "      <th>hi</th>\n",
       "      <td>0.766550</td>\n",
       "      <td>0.766550</td>\n",
       "      <td>NaN</td>\n",
       "      <td>-0.764195</td>\n",
       "      <td>-0.764195</td>\n",
       "      <td>NaN</td>\n",
       "    </tr>\n",
       "    <tr>\n",
       "      <th>ho</th>\n",
       "      <td>-0.334986</td>\n",
       "      <td>-0.167493</td>\n",
       "      <td>0.736581</td>\n",
       "      <td>0.310795</td>\n",
       "      <td>0.155397</td>\n",
       "      <td>0.303939</td>\n",
       "    </tr>\n",
       "  </tbody>\n",
       "</table>\n",
       "</div>"
      ],
      "text/plain": [
       "       Data1                         Data2                    \n",
       "          합계        평균       std        합계        평균       std\n",
       "A                                                             \n",
       "ha -0.593695 -0.296847  0.049444  0.020604  0.010302  0.835260\n",
       "hi  0.766550  0.766550       NaN -0.764195 -0.764195       NaN\n",
       "ho -0.334986 -0.167493  0.736581  0.310795  0.155397  0.303939"
      ]
     },
     "execution_count": 71,
     "metadata": {},
     "output_type": "execute_result"
    }
   ],
   "source": [
    "grouped.agg([np.sum, np.mean, np.std]).rename(columns={'sum':'합계','mean':'평균'})"
   ]
  },
  {
   "cell_type": "code",
   "execution_count": 72,
   "id": "6d50a64f",
   "metadata": {},
   "outputs": [
    {
     "data": {
      "text/html": [
       "<div>\n",
       "<style scoped>\n",
       "    .dataframe tbody tr th:only-of-type {\n",
       "        vertical-align: middle;\n",
       "    }\n",
       "\n",
       "    .dataframe tbody tr th {\n",
       "        vertical-align: top;\n",
       "    }\n",
       "\n",
       "    .dataframe thead th {\n",
       "        text-align: right;\n",
       "    }\n",
       "</style>\n",
       "<table border=\"1\" class=\"dataframe\">\n",
       "  <thead>\n",
       "    <tr style=\"text-align: right;\">\n",
       "      <th></th>\n",
       "      <th>Data2</th>\n",
       "      <th>Data1</th>\n",
       "    </tr>\n",
       "    <tr>\n",
       "      <th>A</th>\n",
       "      <th></th>\n",
       "      <th></th>\n",
       "    </tr>\n",
       "  </thead>\n",
       "  <tbody>\n",
       "    <tr>\n",
       "      <th>ha</th>\n",
       "      <td>0.020604</td>\n",
       "      <td>-0.593695</td>\n",
       "    </tr>\n",
       "    <tr>\n",
       "      <th>hi</th>\n",
       "      <td>-0.764195</td>\n",
       "      <td>0.766550</td>\n",
       "    </tr>\n",
       "    <tr>\n",
       "      <th>ho</th>\n",
       "      <td>0.310795</td>\n",
       "      <td>-0.334986</td>\n",
       "    </tr>\n",
       "  </tbody>\n",
       "</table>\n",
       "</div>"
      ],
      "text/plain": [
       "       Data2     Data1\n",
       "A                     \n",
       "ha  0.020604 -0.593695\n",
       "hi -0.764195  0.766550\n",
       "ho  0.310795 -0.334986"
      ]
     },
     "execution_count": 72,
     "metadata": {},
     "output_type": "execute_result"
    }
   ],
   "source": [
    "grouped.agg({'Data2':np.sum,'Data1':lambda x:np.sum(x)})"
   ]
  },
  {
   "cell_type": "code",
   "execution_count": 1,
   "id": "3c39fa84",
   "metadata": {},
   "outputs": [
    {
     "data": {
      "text/html": [
       "<div>\n",
       "<style scoped>\n",
       "    .dataframe tbody tr th:only-of-type {\n",
       "        vertical-align: middle;\n",
       "    }\n",
       "\n",
       "    .dataframe tbody tr th {\n",
       "        vertical-align: top;\n",
       "    }\n",
       "\n",
       "    .dataframe thead th {\n",
       "        text-align: right;\n",
       "    }\n",
       "</style>\n",
       "<table border=\"1\" class=\"dataframe\">\n",
       "  <thead>\n",
       "    <tr style=\"text-align: right;\">\n",
       "      <th></th>\n",
       "      <th>A</th>\n",
       "      <th>B</th>\n",
       "      <th>Data1</th>\n",
       "      <th>Data2</th>\n",
       "    </tr>\n",
       "  </thead>\n",
       "  <tbody>\n",
       "    <tr>\n",
       "      <th>0</th>\n",
       "      <td>ha</td>\n",
       "      <td>one</td>\n",
       "      <td>0.947410</td>\n",
       "      <td>1.004157</td>\n",
       "    </tr>\n",
       "    <tr>\n",
       "      <th>1</th>\n",
       "      <td>hi</td>\n",
       "      <td>two</td>\n",
       "      <td>-0.728022</td>\n",
       "      <td>0.316791</td>\n",
       "    </tr>\n",
       "    <tr>\n",
       "      <th>2</th>\n",
       "      <td>ho</td>\n",
       "      <td>one</td>\n",
       "      <td>-0.907070</td>\n",
       "      <td>1.033642</td>\n",
       "    </tr>\n",
       "    <tr>\n",
       "      <th>3</th>\n",
       "      <td>ha</td>\n",
       "      <td>one</td>\n",
       "      <td>-0.372755</td>\n",
       "      <td>-0.642233</td>\n",
       "    </tr>\n",
       "    <tr>\n",
       "      <th>4</th>\n",
       "      <td>ho</td>\n",
       "      <td>two</td>\n",
       "      <td>-1.259223</td>\n",
       "      <td>-0.105887</td>\n",
       "    </tr>\n",
       "  </tbody>\n",
       "</table>\n",
       "</div>"
      ],
      "text/plain": [
       "    A    B     Data1     Data2\n",
       "0  ha  one  0.947410  1.004157\n",
       "1  hi  two -0.728022  0.316791\n",
       "2  ho  one -0.907070  1.033642\n",
       "3  ha  one -0.372755 -0.642233\n",
       "4  ho  two -1.259223 -0.105887"
      ]
     },
     "execution_count": 1,
     "metadata": {},
     "output_type": "execute_result"
    }
   ],
   "source": [
    "import pandas as pd\n",
    "import numpy as np\n",
    "df = pd.DataFrame({'A':['ha','hi','ho','ha','ho'],\n",
    "                  'B':['one','two','one','one','two'],\n",
    "                  'Data1':np.random.randn(5),\n",
    "                  'Data2':np.random.randn(5)})\n",
    "df"
   ]
  },
  {
   "cell_type": "code",
   "execution_count": 2,
   "id": "86e39889",
   "metadata": {},
   "outputs": [
    {
     "data": {
      "text/html": [
       "<div>\n",
       "<style scoped>\n",
       "    .dataframe tbody tr th:only-of-type {\n",
       "        vertical-align: middle;\n",
       "    }\n",
       "\n",
       "    .dataframe tbody tr th {\n",
       "        vertical-align: top;\n",
       "    }\n",
       "\n",
       "    .dataframe thead th {\n",
       "        text-align: right;\n",
       "    }\n",
       "</style>\n",
       "<table border=\"1\" class=\"dataframe\">\n",
       "  <thead>\n",
       "    <tr style=\"text-align: right;\">\n",
       "      <th></th>\n",
       "      <th>Data1</th>\n",
       "      <th>Data2</th>\n",
       "    </tr>\n",
       "    <tr>\n",
       "      <th>A</th>\n",
       "      <th></th>\n",
       "      <th></th>\n",
       "    </tr>\n",
       "  </thead>\n",
       "  <tbody>\n",
       "    <tr>\n",
       "      <th>ha</th>\n",
       "      <td>0.933497</td>\n",
       "      <td>1.164173</td>\n",
       "    </tr>\n",
       "    <tr>\n",
       "      <th>hi</th>\n",
       "      <td>NaN</td>\n",
       "      <td>NaN</td>\n",
       "    </tr>\n",
       "    <tr>\n",
       "      <th>ho</th>\n",
       "      <td>0.249010</td>\n",
       "      <td>0.805769</td>\n",
       "    </tr>\n",
       "  </tbody>\n",
       "</table>\n",
       "</div>"
      ],
      "text/plain": [
       "       Data1     Data2\n",
       "A                     \n",
       "ha  0.933497  1.164173\n",
       "hi       NaN       NaN\n",
       "ho  0.249010  0.805769"
      ]
     },
     "execution_count": 2,
     "metadata": {},
     "output_type": "execute_result"
    }
   ],
   "source": [
    "df.groupby('A').std()"
   ]
  },
  {
   "cell_type": "code",
   "execution_count": null,
   "id": "697f5995",
   "metadata": {},
   "outputs": [],
   "source": []
  }
 ],
 "metadata": {
  "kernelspec": {
   "display_name": "Python 3 (ipykernel)",
   "language": "python",
   "name": "python3"
  },
  "language_info": {
   "codemirror_mode": {
    "name": "ipython",
    "version": 3
   },
   "file_extension": ".py",
   "mimetype": "text/x-python",
   "name": "python",
   "nbconvert_exporter": "python",
   "pygments_lexer": "ipython3",
   "version": "3.9.13"
  }
 },
 "nbformat": 4,
 "nbformat_minor": 5
}
